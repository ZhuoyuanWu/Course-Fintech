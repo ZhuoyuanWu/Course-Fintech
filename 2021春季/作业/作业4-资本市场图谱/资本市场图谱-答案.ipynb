{
 "cells": [
  {
   "cell_type": "markdown",
   "metadata": {},
   "source": [
    "<h1 style=\"text-align:center\"> 资本市场图谱-答案 </h1>\n",
    "<h3 style=\"text-align:center\">  ——武汉大学金融科技研究中心 </h3>\n",
    "<h3 style=\"text-align:center\">  ——武汉大学《金融科技》课程作业 </h3>"
   ]
  },
  {
   "cell_type": "markdown",
   "metadata": {},
   "source": [
    "知识图谱是一种大规模语义网络，以实体或者概念作为节点，通过语义关系相连接，通过发掘实体之间的关联，将结构化、半结构化、非结构化的数据进行整合。它可以帮助理解数据、解释数据、推理数据，从而发掘深层关系实现智慧搜索和智能交互。     \n",
    "通过构建资本市场知识图谱可以进行可视化展示，将庞大复杂的数据通过图谱的方式进行展现，可以帮助我们更好的理解和应用数据；可以进行关联分析，寻找并构建某一实体的关联图谱；还可以实现对市场数据及基本面的分析，帮助我们进行更全面、更即时的投研。    \n",
    "本实验我们将基于一些股票数据、上市公司和管理层数据和公募基金数据，搭建一个资本市场知识图谱，并实现简单的信息可视化查询、关联分析和推荐等功能。"
   ]
  },
  {
   "cell_type": "markdown",
   "metadata": {},
   "source": [
    "## 1 数据介绍"
   ]
  },
  {
   "cell_type": "markdown",
   "metadata": {},
   "source": [
    "本实验提供以下 6 类数据，这些数据互有关联，互相依赖形成最终的金融知识图谱。\n",
    "- 公司列表：主要包含了全A股上市公司的证券代码、证券简称、公司全称、行业名称等相关信息。\n",
    "- 公司明细：主要包含了上市公司地理位置等具体的信息。\n",
    "- 公司管理者：主要包含了上市公司各董监会人员的姓名、性别、学历等相关信息。\n",
    "- 基金基本信息，基金公司信息：主要包含了基金代码、基金公司名称、管理人、托管人等相关信息。\n",
    "- 基金持仓：主要包含了2019年以来公告的所有公募基金季度更新的持仓数据。"
   ]
  },
  {
   "cell_type": "code",
   "execution_count": 1,
   "metadata": {
    "ExecuteTime": {
     "end_time": "2020-01-23T14:06:28.094164Z",
     "start_time": "2020-01-23T14:06:22.711163Z"
    }
   },
   "outputs": [],
   "source": [
    "import pandas as pd"
   ]
  },
  {
   "cell_type": "code",
   "execution_count": 2,
   "metadata": {},
   "outputs": [],
   "source": [
    "data_path = './data/'# 将本实验提供的数据放置在工作区下的该文件夹中"
   ]
  },
  {
   "cell_type": "markdown",
   "metadata": {},
   "source": [
    "### 1.1 公司列表\n",
    "主要包含了全A股上市公司的证券代码、证券简称、公司全称、行业名称等相关信息。"
   ]
  },
  {
   "cell_type": "markdown",
   "metadata": {},
   "source": [
    "|名称|类型|描述|\n",
    "|--|--|--|\n",
    "|ts_code|str|TS代码|\n",
    "|symbol|str|<font  color=#009688  >**股票代码**</font>|\n",
    "|name|str|<font  color=#009688  >**股票名称**</font>|\n",
    "|industry|str|<font  color=#009688  >**所属行业（以2012版证监会行业分类为准）**</font>|\n",
    "|fullname|str|<font  color=#009688  >**股票全称**</font>|\n",
    "|market|str|市场类型：上海A/上海B/深圳A/深圳B/创业板/科创板|\n",
    "|exchange|str|交易所代码：SSE上交所 SZSE深交所|\n",
    "|curr_type|str|交易货币|\n",
    "|list_status|str|上市状态： L上市 D退市 P暂停上市|\n",
    "|list_date|str|上市日期|\n",
    "|delist_date|str|退市日期|"
   ]
  },
  {
   "cell_type": "code",
   "execution_count": 3,
   "metadata": {
    "ExecuteTime": {
     "end_time": "2020-01-20T05:12:44.072237Z",
     "start_time": "2020-01-20T05:12:44.037230Z"
    }
   },
   "outputs": [],
   "source": [
    "usecols = ['ts_code','symbol','name','fullname','market','exchange','list_status',\n",
    "           'list_date','delist_date']\n",
    "\n",
    "df_company_lsit_all =  pd.read_csv(data_path + '公司列表.csv',dtype={\"symbol\":str},usecols=usecols, encoding = 'ansi')"
   ]
  },
  {
   "cell_type": "markdown",
   "metadata": {},
   "source": [
    "**<font color = red>问题一：“公司列表”数据缺乏上市公司所在的行业信息。请你以2012年版证监会行业分类为准，从CSMAR数据库中下载数据补充该部分信息作为industry列。</font>**"
   ]
  },
  {
   "cell_type": "code",
   "execution_count": 4,
   "metadata": {},
   "outputs": [
    {
     "data": {
      "text/html": [
       "<div>\n",
       "<style scoped>\n",
       "    .dataframe tbody tr th:only-of-type {\n",
       "        vertical-align: middle;\n",
       "    }\n",
       "\n",
       "    .dataframe tbody tr th {\n",
       "        vertical-align: top;\n",
       "    }\n",
       "\n",
       "    .dataframe thead th {\n",
       "        text-align: right;\n",
       "    }\n",
       "</style>\n",
       "<table border=\"1\" class=\"dataframe\">\n",
       "  <thead>\n",
       "    <tr style=\"text-align: right;\">\n",
       "      <th></th>\n",
       "      <th>ts_code</th>\n",
       "      <th>symbol</th>\n",
       "      <th>name</th>\n",
       "      <th>industry</th>\n",
       "      <th>fullname</th>\n",
       "      <th>market</th>\n",
       "      <th>exchange</th>\n",
       "      <th>list_status</th>\n",
       "      <th>list_date</th>\n",
       "      <th>delist_date</th>\n",
       "    </tr>\n",
       "  </thead>\n",
       "  <tbody>\n",
       "    <tr>\n",
       "      <th>0</th>\n",
       "      <td>000001.SZ</td>\n",
       "      <td>000001</td>\n",
       "      <td>平安银行</td>\n",
       "      <td>货币金融服务</td>\n",
       "      <td>平安银行股份有限公司</td>\n",
       "      <td>深圳A</td>\n",
       "      <td>SZSE</td>\n",
       "      <td>L</td>\n",
       "      <td>19910403</td>\n",
       "      <td>NaN</td>\n",
       "    </tr>\n",
       "    <tr>\n",
       "      <th>1</th>\n",
       "      <td>000002.SZ</td>\n",
       "      <td>000002</td>\n",
       "      <td>万科A</td>\n",
       "      <td>房地产业</td>\n",
       "      <td>万科企业股份有限公司</td>\n",
       "      <td>深圳A</td>\n",
       "      <td>SZSE</td>\n",
       "      <td>L</td>\n",
       "      <td>19910129</td>\n",
       "      <td>NaN</td>\n",
       "    </tr>\n",
       "    <tr>\n",
       "      <th>2</th>\n",
       "      <td>000004.SZ</td>\n",
       "      <td>000004</td>\n",
       "      <td>国农科技</td>\n",
       "      <td>软件和信息技术服务业</td>\n",
       "      <td>深圳中国农大科技股份有限公司</td>\n",
       "      <td>深圳A</td>\n",
       "      <td>SZSE</td>\n",
       "      <td>L</td>\n",
       "      <td>19910114</td>\n",
       "      <td>NaN</td>\n",
       "    </tr>\n",
       "    <tr>\n",
       "      <th>3</th>\n",
       "      <td>000005.SZ</td>\n",
       "      <td>000005</td>\n",
       "      <td>世纪星源</td>\n",
       "      <td>生态保护和环境治理业</td>\n",
       "      <td>深圳世纪星源股份有限公司</td>\n",
       "      <td>深圳A</td>\n",
       "      <td>SZSE</td>\n",
       "      <td>L</td>\n",
       "      <td>19901210</td>\n",
       "      <td>NaN</td>\n",
       "    </tr>\n",
       "    <tr>\n",
       "      <th>4</th>\n",
       "      <td>000006.SZ</td>\n",
       "      <td>000006</td>\n",
       "      <td>深振业A</td>\n",
       "      <td>房地产业</td>\n",
       "      <td>深圳市振业(集团)股份有限公司</td>\n",
       "      <td>深圳A</td>\n",
       "      <td>SZSE</td>\n",
       "      <td>L</td>\n",
       "      <td>19920427</td>\n",
       "      <td>NaN</td>\n",
       "    </tr>\n",
       "  </tbody>\n",
       "</table>\n",
       "</div>"
      ],
      "text/plain": [
       "     ts_code  symbol  name    industry         fullname market exchange  \\\n",
       "0  000001.SZ  000001  平安银行      货币金融服务       平安银行股份有限公司    深圳A     SZSE   \n",
       "1  000002.SZ  000002   万科A        房地产业       万科企业股份有限公司    深圳A     SZSE   \n",
       "2  000004.SZ  000004  国农科技  软件和信息技术服务业   深圳中国农大科技股份有限公司    深圳A     SZSE   \n",
       "3  000005.SZ  000005  世纪星源  生态保护和环境治理业     深圳世纪星源股份有限公司    深圳A     SZSE   \n",
       "4  000006.SZ  000006  深振业A        房地产业  深圳市振业(集团)股份有限公司    深圳A     SZSE   \n",
       "\n",
       "  list_status  list_date  delist_date  \n",
       "0           L   19910403          NaN  \n",
       "1           L   19910129          NaN  \n",
       "2           L   19910114          NaN  \n",
       "3           L   19901210          NaN  \n",
       "4           L   19920427          NaN  "
      ]
     },
     "execution_count": 4,
     "metadata": {},
     "output_type": "execute_result"
    }
   ],
   "source": [
    "hy = pd.read_csv(data_path +'TRD_Co.csv')\n",
    "df_company_lsit_all = pd.merge(df_company_lsit_all, hy[['Stkcd', 'Nnindnme']], left_on = 'symbol', right_on = 'Stkcd')\n",
    "df_company_lsit_all = df_company_lsit_all.rename(columns = {'Nnindnme': 'industry'})\n",
    "df_company_lsit_all.head()"
   ]
  },
  {
   "cell_type": "markdown",
   "metadata": {},
   "source": [
    "**<font color = red>问题二：基于“公司列表”数据，统计截止2019年底为止，A股市场总共有多少家上市公司，其中在上交所上市的有多少家，请你补充所需要的代码到下面一个代码块，并打印输出结果：</font>**"
   ]
  },
  {
   "cell_type": "code",
   "execution_count": 5,
   "metadata": {
    "ExecuteTime": {
     "end_time": "2019-12-24T07:10:04.332832Z",
     "start_time": "2019-12-24T07:10:04.309894Z"
    },
    "scrolled": true
   },
   "outputs": [
    {
     "name": "stdout",
     "output_type": "stream",
     "text": [
      "截止2019年底为止，A股市场上市公司数目: 3730\n",
      "其中在上交所上市的公司数目: 3730\n"
     ]
    }
   ],
   "source": [
    "df_company_lsit_all0 = df_company_lsit_all[(df_company_lsit_all['list_date'] < 20200000) & (df_company_lsit_all['list_status'] == 'L')]\n",
    "df_company_lsit_all1 = df_company_lsit_all0[(df_company_lsit_all0['market']=='上海A') | (df_company_lsit_all0['market']=='深圳A' )|( df_company_lsit_all0['market']=='创业板' )|( df_company_lsit_all0['market']=='科创板')]\n",
    "print('截止2019年底为止，A股市场上市公司数目:', len(df_company_lsit_all1))\n",
    "df_company_lsit_all2 = df_company_lsit_all1[df_company_lsit_all1['exchange']=='SSE']\n",
    "len(df_company_lsit_all2)\n",
    "print('其中在上交所上市的公司数目:', len(df_company_lsit_all1))"
   ]
  },
  {
   "cell_type": "markdown",
   "metadata": {},
   "source": [
    "### 1.2 公司明细\n",
    "这部分数据主要包含了上市公司地理位置等具体的信息，将用于提取上市公司所在省份和城市。"
   ]
  },
  {
   "cell_type": "markdown",
   "metadata": {
    "ExecuteTime": {
     "end_time": "2020-01-07T06:13:41.662359Z",
     "start_time": "2020-01-07T06:13:41.653358Z"
    }
   },
   "source": [
    "|名称|类型|描述|\n",
    "|---|---|---|\n",
    "|ts_code|str| <font  color=#009688  >**股票代码**</font>|\n",
    "|exchange|str| 交易所代码 ，SSE上交所 SZSE深交所|\n",
    "|chairman|str| 法人代表|\n",
    "|manager |str| 总经理|\n",
    "|secretary| str| 董秘|\n",
    "|reg_capital |float|  注册资本|\n",
    "|setup_date|str| 注册日期|\n",
    "|province|str| <font  color=#009688  >**所在省份**</font>|\n",
    "|city|str|  <font  color=#009688  >**所在城市**</font>|\n",
    "|introduction|str| 公司介绍|\n",
    "|website |str| 公司主页|\n",
    "|email| str| 电子邮件|\n",
    "|office|str| 办公室|\n",
    "|employees| int| 员工人数|\n",
    "|main_business| str| 主要业务及产品|\n",
    "|business_scope|str| 经营范围|"
   ]
  },
  {
   "cell_type": "code",
   "execution_count": 123,
   "metadata": {
    "ExecuteTime": {
     "end_time": "2020-01-20T08:09:07.723312Z",
     "start_time": "2020-01-20T08:09:07.681301Z"
    }
   },
   "outputs": [
    {
     "data": {
      "text/html": [
       "<div>\n",
       "<style scoped>\n",
       "    .dataframe tbody tr th:only-of-type {\n",
       "        vertical-align: middle;\n",
       "    }\n",
       "\n",
       "    .dataframe tbody tr th {\n",
       "        vertical-align: top;\n",
       "    }\n",
       "\n",
       "    .dataframe thead th {\n",
       "        text-align: right;\n",
       "    }\n",
       "</style>\n",
       "<table border=\"1\" class=\"dataframe\">\n",
       "  <thead>\n",
       "    <tr style=\"text-align: right;\">\n",
       "      <th></th>\n",
       "      <th>ts_code</th>\n",
       "      <th>exchange</th>\n",
       "      <th>chairman</th>\n",
       "      <th>manager</th>\n",
       "      <th>secretary</th>\n",
       "      <th>reg_capital</th>\n",
       "      <th>setup_date</th>\n",
       "      <th>province</th>\n",
       "      <th>city</th>\n",
       "      <th>website</th>\n",
       "      <th>email</th>\n",
       "      <th>employees</th>\n",
       "    </tr>\n",
       "  </thead>\n",
       "  <tbody>\n",
       "    <tr>\n",
       "      <th>0</th>\n",
       "      <td>300304.SZ</td>\n",
       "      <td>SZSE</td>\n",
       "      <td>付红玲</td>\n",
       "      <td>蔡承儒</td>\n",
       "      <td>郑渲薇</td>\n",
       "      <td>86603.6018</td>\n",
       "      <td>20070427</td>\n",
       "      <td>江苏</td>\n",
       "      <td>徐州市</td>\n",
       "      <td>www.yunyi-china.com</td>\n",
       "      <td>dsh@yunyi-china.com</td>\n",
       "      <td>948.0</td>\n",
       "    </tr>\n",
       "    <tr>\n",
       "      <th>1</th>\n",
       "      <td>002635.SZ</td>\n",
       "      <td>SZSE</td>\n",
       "      <td>吕莉</td>\n",
       "      <td>吕莉</td>\n",
       "      <td>马玉燕</td>\n",
       "      <td>63420.2080</td>\n",
       "      <td>19991216</td>\n",
       "      <td>江苏</td>\n",
       "      <td>苏州市</td>\n",
       "      <td>www.anjiesz.com</td>\n",
       "      <td>zhengquan@anjiesz.com</td>\n",
       "      <td>6391.0</td>\n",
       "    </tr>\n",
       "    <tr>\n",
       "      <th>2</th>\n",
       "      <td>002836.SZ</td>\n",
       "      <td>SZSE</td>\n",
       "      <td>肖海兰</td>\n",
       "      <td>肖海兰</td>\n",
       "      <td>夏明珠</td>\n",
       "      <td>16000.0000</td>\n",
       "      <td>20060322</td>\n",
       "      <td>广东</td>\n",
       "      <td>潮州市</td>\n",
       "      <td>www.newglp.com</td>\n",
       "      <td>gdxhz@newglp.com;xiamz@newglp.com;zhendai@newg...</td>\n",
       "      <td>689.0</td>\n",
       "    </tr>\n",
       "    <tr>\n",
       "      <th>3</th>\n",
       "      <td>002707.SZ</td>\n",
       "      <td>SZSE</td>\n",
       "      <td>冯滨</td>\n",
       "      <td>冯滨</td>\n",
       "      <td>郭镭</td>\n",
       "      <td>90994.5822</td>\n",
       "      <td>19920811</td>\n",
       "      <td>北京</td>\n",
       "      <td>北京市</td>\n",
       "      <td>www.uzai.com</td>\n",
       "      <td>stock@utourworld.com</td>\n",
       "      <td>5468.0</td>\n",
       "    </tr>\n",
       "    <tr>\n",
       "      <th>4</th>\n",
       "      <td>002629.SZ</td>\n",
       "      <td>SZSE</td>\n",
       "      <td>温志平</td>\n",
       "      <td>陈曦</td>\n",
       "      <td>王晶</td>\n",
       "      <td>41194.8000</td>\n",
       "      <td>20060927</td>\n",
       "      <td>浙江</td>\n",
       "      <td>温州市</td>\n",
       "      <td>www.chinarenzhi.com</td>\n",
       "      <td>ofc_board@renzhi.cn</td>\n",
       "      <td>137.0</td>\n",
       "    </tr>\n",
       "  </tbody>\n",
       "</table>\n",
       "</div>"
      ],
      "text/plain": [
       "     ts_code exchange chairman manager secretary  reg_capital  setup_date  \\\n",
       "0  300304.SZ     SZSE      付红玲     蔡承儒       郑渲薇   86603.6018    20070427   \n",
       "1  002635.SZ     SZSE       吕莉      吕莉       马玉燕   63420.2080    19991216   \n",
       "2  002836.SZ     SZSE      肖海兰     肖海兰       夏明珠   16000.0000    20060322   \n",
       "3  002707.SZ     SZSE       冯滨      冯滨        郭镭   90994.5822    19920811   \n",
       "4  002629.SZ     SZSE      温志平      陈曦        王晶   41194.8000    20060927   \n",
       "\n",
       "  province city              website  \\\n",
       "0       江苏  徐州市  www.yunyi-china.com   \n",
       "1       江苏  苏州市      www.anjiesz.com   \n",
       "2       广东  潮州市       www.newglp.com   \n",
       "3       北京  北京市         www.uzai.com   \n",
       "4       浙江  温州市  www.chinarenzhi.com   \n",
       "\n",
       "                                               email  employees  \n",
       "0                                dsh@yunyi-china.com      948.0  \n",
       "1                              zhengquan@anjiesz.com     6391.0  \n",
       "2  gdxhz@newglp.com;xiamz@newglp.com;zhendai@newg...      689.0  \n",
       "3                               stock@utourworld.com     5468.0  \n",
       "4                                ofc_board@renzhi.cn      137.0  "
      ]
     },
     "execution_count": 123,
     "metadata": {},
     "output_type": "execute_result"
    }
   ],
   "source": [
    "df_company_detail = pd.read_csv(data_path + '公司明细.csv', encoding = 'ansi')\n",
    "df_company_detail.head()"
   ]
  },
  {
   "cell_type": "markdown",
   "metadata": {},
   "source": [
    "### 1.3 公司管理者\n",
    "这部分数据主要包含了上市公司各董监会人员的姓名、性别、学历等相关信息，将用于提取上市公司各董监会人员的姓名。"
   ]
  },
  {
   "cell_type": "markdown",
   "metadata": {},
   "source": [
    "|名称|类型|描述|\n",
    "|----|----|--|\n",
    "|ts_code| str| <font  color=#009688  >**TS股票代码**</font>|\n",
    "|ann_date|str| 公告日期|\n",
    "|name|str| <font  color=#009688  >**姓名**</font>|\n",
    "|gender|str| 性别|\n",
    "|lev|str| 岗位类别|\n",
    "|title| str| 岗位|\n",
    "|edu|str| 学历|\n",
    "|national|str| 国籍|\n",
    "|birthday|str| 出生年月|\n",
    "|begin_date|str| 上任日期|\n",
    "|end_date|str| 离任日期|"
   ]
  },
  {
   "cell_type": "code",
   "execution_count": 124,
   "metadata": {
    "ExecuteTime": {
     "end_time": "2020-01-20T06:39:58.897020Z",
     "start_time": "2020-01-20T05:21:46.012453Z"
    },
    "scrolled": true
   },
   "outputs": [],
   "source": [
    "df_stk_managers = pd.read_csv(data_path + '公司管理者.csv', encoding = 'ansi')"
   ]
  },
  {
   "cell_type": "markdown",
   "metadata": {},
   "source": [
    "**<font color = red>问题三：基于“公司列表”数据和“公司明细”数据，检阅下万科A(000002.SZ)的信息，提取出该股票的股票全称、市场类型、所在省份、所在城市以及其现任董监会人员的任职情况、姓名、性别、学历等相关信息，请你补充所需要的代码到下面一个代码块，并打印输出结果：</font>**"
   ]
  },
  {
   "cell_type": "code",
   "execution_count": 10,
   "metadata": {},
   "outputs": [
    {
     "name": "stdout",
     "output_type": "stream",
     "text": [
      "   index  symbol industry    fullname market  index province city\n",
      "0      1  000002     房地产业  万科企业股份有限公司    深圳A   1095       广东  深圳市\n",
      "       name gender    lev      title edu\n",
      "262710  王文金      M     高管      财务负责人  硕士\n",
      "262715  吉江华      M     其他  董事会证券事务代表  硕士\n",
      "262717  祝九胜      M     高管      首席执行官  博士\n",
      "262718  祝九胜      M     高管         总裁  博士\n",
      "262721  王文金      M     高管      执行副总裁  硕士\n",
      "262722   解冻      M     监事      监事会主席  博士\n",
      "262723  陈贤军      M  董事会成员         董事  硕士\n",
      "262724  孙盛典      M  董事会成员         董事  博士\n",
      "262725   张旭      M  董事会成员         董事  硕士\n",
      "262726  刘姝威      F  董事会成员       独立董事  硕士\n",
      "262727  吴嘉宁      M  董事会成员       独立董事  硕士\n",
      "262728   李强      M  董事会成员       独立董事  硕士\n",
      "262729   李强      M     其他    投资委员会委员  硕士\n",
      "262730   李强      M     其他   投资委员会召集人  硕士\n",
      "262731  吴嘉宁      M     其他    审计委员会委员  硕士\n",
      "262732  吴嘉宁      M     其他   审计委员会召集人  硕士\n",
      "262733  陈贤军      M     其他    审计委员会委员  硕士\n",
      "262734  孙盛典      M     其他    投资委员会委员  博士\n",
      "262735   张旭      M     其他    投资委员会委员  硕士\n",
      "262736   康典      M     其他    提名委员会委员  硕士\n",
      "262737   康典      M     其他   提名委员会召集人  硕士\n",
      "262738   康典      M     其他    薪酬委员会委员  硕士\n",
      "262739   康典      M     其他   薪酬委员会召集人  硕士\n",
      "262740   张旭      M     高管      执行副总裁  硕士\n",
      "262741   张旭      M     高管      首席运营官  硕士\n",
      "262742  周清平      M     监事       职工监事  硕士\n",
      "262743  王文金      M  董事会成员         董事  硕士\n",
      "262744   朱旭      F     高管      董事会秘书  硕士\n",
      "262745   郑英      F     监事         监事  硕士\n",
      "262746  林茂德      M  董事会成员         董事  本科\n",
      "262747   康典      M  董事会成员       独立董事  硕士\n",
      "262748   郁亮      M  董事会成员         董事  硕士\n",
      "262749   王石      M     高管    董事会名誉主席  本科\n",
      "262750   郁亮      M  董事会成员      董事会主席  硕士\n",
      "262751   郁亮      M     高管      法定代表人  硕士\n",
      "262752  林茂德      M  董事会成员     董事会副主席  本科\n",
      "262753  刘姝威      F     其他    审计委员会委员  硕士\n",
      "262754  吴嘉宁      M     其他    薪酬委员会委员  硕士\n",
      "262755  林茂德      M     其他    薪酬委员会委员  本科\n",
      "262756  吴嘉宁      M     其他    提名委员会委员  硕士\n",
      "262757  林茂德      M     其他    提名委员会委员  本科\n",
      "262758   解冻      M     监事         监事  博士\n"
     ]
    }
   ],
   "source": [
    "wanke1 = df_company_lsit_all[df_company_lsit_all['ts_code'] == '000002.SZ'][['symbol','industry','fullname','market']].reset_index()\n",
    "wanke2 = df_company_detail[df_company_detail['ts_code'] == '000002.SZ'][['province','city']].reset_index()\n",
    "print(pd.concat([wanke1, wanke2], axis = 1))\n",
    "wanke3 = df_stk_managers[(df_stk_managers['ts_code'] == '000002.SZ') & (df_stk_managers['end_date'].isna())][['name','gender','lev','title','edu']]\n",
    "print(wanke3)"
   ]
  },
  {
   "cell_type": "markdown",
   "metadata": {},
   "source": [
    "### 1.4 基金基本信息\n",
    "这部分数据主要包含了基金代码、简称、管理人、托管人等相关信息。"
   ]
  },
  {
   "cell_type": "markdown",
   "metadata": {},
   "source": [
    "|名称|类型|描述|\n",
    "|--|--|--|\n",
    "|ts_code|str|<font  color=#009688  >**基金代码**</font>|\n",
    "|name|str|简称|\n",
    "|management|str|<font  color=#009688  >**管理人**</font>|\n",
    "|custodian|str|<font  color=#009688  >**托管人**</font>|\n",
    "|fund_type|str|投资类型|\n",
    "|found_date|str|成立日期|\n",
    "|due_date|str|到期日期|\n",
    "|list_date|str|上市时间|\n",
    "|issue_date|str|发行日期|\n",
    "|delist_date|str|退市日期|\n",
    "|issue_amount|float|发行份额(亿)|\n",
    "|m_fee|float|管理费|\n",
    "|c_fee|float|托管费|\n",
    "|duration_year|float|存续期|\n",
    "|p_value|float|面值|\n",
    "|min_amount|float|起点金额(万元)|\n",
    "|exp_return|float|预期收益率|\n",
    "|benchmark|str|业绩比较基准|\n",
    "|status|str|存续状态D摘牌 I发行 L已上市|\n",
    "|invest_type|str|投资风格|\n",
    "|type|str|基金类型|\n",
    "|market|str|E场内O场外|"
   ]
  },
  {
   "cell_type": "code",
   "execution_count": 11,
   "metadata": {
    "ExecuteTime": {
     "end_time": "2020-01-10T07:39:50.973614Z",
     "start_time": "2020-01-10T07:39:46.751148Z"
    }
   },
   "outputs": [],
   "source": [
    "df_fund_basic = pd.read_csv(data_path + '基金基本信息.csv', encoding = 'ansi')"
   ]
  },
  {
   "cell_type": "code",
   "execution_count": 12,
   "metadata": {
    "ExecuteTime": {
     "end_time": "2020-01-10T11:54:34.549828Z",
     "start_time": "2020-01-10T11:54:34.542835Z"
    }
   },
   "outputs": [
    {
     "data": {
      "text/plain": [
       "(11187, 22)"
      ]
     },
     "execution_count": 12,
     "metadata": {},
     "output_type": "execute_result"
    }
   ],
   "source": [
    "df_fund_basic.shape"
   ]
  },
  {
   "cell_type": "code",
   "execution_count": 13,
   "metadata": {
    "ExecuteTime": {
     "end_time": "2020-01-10T11:55:06.110267Z",
     "start_time": "2020-01-10T11:55:06.068267Z"
    }
   },
   "outputs": [
    {
     "data": {
      "text/html": [
       "<div>\n",
       "<style scoped>\n",
       "    .dataframe tbody tr th:only-of-type {\n",
       "        vertical-align: middle;\n",
       "    }\n",
       "\n",
       "    .dataframe tbody tr th {\n",
       "        vertical-align: top;\n",
       "    }\n",
       "\n",
       "    .dataframe thead th {\n",
       "        text-align: right;\n",
       "    }\n",
       "</style>\n",
       "<table border=\"1\" class=\"dataframe\">\n",
       "  <thead>\n",
       "    <tr style=\"text-align: right;\">\n",
       "      <th></th>\n",
       "      <th>ts_code</th>\n",
       "      <th>name</th>\n",
       "      <th>management</th>\n",
       "      <th>custodian</th>\n",
       "      <th>fund_type</th>\n",
       "      <th>found_date</th>\n",
       "      <th>due_date</th>\n",
       "      <th>list_date</th>\n",
       "      <th>issue_date</th>\n",
       "      <th>delist_date</th>\n",
       "      <th>...</th>\n",
       "      <th>c_fee</th>\n",
       "      <th>duration_year</th>\n",
       "      <th>p_value</th>\n",
       "      <th>min_amount</th>\n",
       "      <th>exp_return</th>\n",
       "      <th>benchmark</th>\n",
       "      <th>status</th>\n",
       "      <th>invest_type</th>\n",
       "      <th>type</th>\n",
       "      <th>market</th>\n",
       "    </tr>\n",
       "  </thead>\n",
       "  <tbody>\n",
       "    <tr>\n",
       "      <th>0</th>\n",
       "      <td>159821.SZ</td>\n",
       "      <td>BOCI创业</td>\n",
       "      <td>中银证券</td>\n",
       "      <td>中国工商银行</td>\n",
       "      <td>股票型</td>\n",
       "      <td>20200929</td>\n",
       "      <td>NaN</td>\n",
       "      <td>20201029.0</td>\n",
       "      <td>20200914.0</td>\n",
       "      <td>NaN</td>\n",
       "      <td>...</td>\n",
       "      <td>0.05</td>\n",
       "      <td>NaN</td>\n",
       "      <td>1.0</td>\n",
       "      <td>0.1</td>\n",
       "      <td>NaN</td>\n",
       "      <td>创业板指数收益率</td>\n",
       "      <td>L</td>\n",
       "      <td>被动指数型</td>\n",
       "      <td>契约型开放式</td>\n",
       "      <td>E</td>\n",
       "    </tr>\n",
       "    <tr>\n",
       "      <th>1</th>\n",
       "      <td>159822.SZ</td>\n",
       "      <td>新经济</td>\n",
       "      <td>银华基金</td>\n",
       "      <td>中国工商银行</td>\n",
       "      <td>股票型</td>\n",
       "      <td>20200929</td>\n",
       "      <td>NaN</td>\n",
       "      <td>20201023.0</td>\n",
       "      <td>20200911.0</td>\n",
       "      <td>NaN</td>\n",
       "      <td>...</td>\n",
       "      <td>0.10</td>\n",
       "      <td>NaN</td>\n",
       "      <td>1.0</td>\n",
       "      <td>0.1</td>\n",
       "      <td>NaN</td>\n",
       "      <td>标普中国新经济行业(A股上限)指数收益率</td>\n",
       "      <td>L</td>\n",
       "      <td>被动指数型</td>\n",
       "      <td>契约型开放式</td>\n",
       "      <td>E</td>\n",
       "    </tr>\n",
       "    <tr>\n",
       "      <th>2</th>\n",
       "      <td>588080.SH</td>\n",
       "      <td>科创板50ETF</td>\n",
       "      <td>易方达基金</td>\n",
       "      <td>中国工商银行</td>\n",
       "      <td>股票型</td>\n",
       "      <td>20200928</td>\n",
       "      <td>NaN</td>\n",
       "      <td>NaN</td>\n",
       "      <td>20200922.0</td>\n",
       "      <td>NaN</td>\n",
       "      <td>...</td>\n",
       "      <td>0.10</td>\n",
       "      <td>NaN</td>\n",
       "      <td>1.0</td>\n",
       "      <td>0.1</td>\n",
       "      <td>NaN</td>\n",
       "      <td>上证科创板50成份指数收益率</td>\n",
       "      <td>I</td>\n",
       "      <td>被动指数型</td>\n",
       "      <td>契约型开放式</td>\n",
       "      <td>E</td>\n",
       "    </tr>\n",
       "    <tr>\n",
       "      <th>3</th>\n",
       "      <td>588090.SH</td>\n",
       "      <td>科创板ETF</td>\n",
       "      <td>华泰柏瑞基金</td>\n",
       "      <td>中国建设银行</td>\n",
       "      <td>股票型</td>\n",
       "      <td>20200928</td>\n",
       "      <td>NaN</td>\n",
       "      <td>NaN</td>\n",
       "      <td>20200922.0</td>\n",
       "      <td>NaN</td>\n",
       "      <td>...</td>\n",
       "      <td>0.10</td>\n",
       "      <td>NaN</td>\n",
       "      <td>1.0</td>\n",
       "      <td>0.1</td>\n",
       "      <td>NaN</td>\n",
       "      <td>上证科创板50成份指数收益率</td>\n",
       "      <td>I</td>\n",
       "      <td>被动指数型</td>\n",
       "      <td>契约型开放式</td>\n",
       "      <td>E</td>\n",
       "    </tr>\n",
       "    <tr>\n",
       "      <th>4</th>\n",
       "      <td>511000.SH</td>\n",
       "      <td>长三角地方债ETF</td>\n",
       "      <td>招商基金</td>\n",
       "      <td>浙商银行</td>\n",
       "      <td>债券型</td>\n",
       "      <td>20200928</td>\n",
       "      <td>NaN</td>\n",
       "      <td>20201029.0</td>\n",
       "      <td>20200622.0</td>\n",
       "      <td>NaN</td>\n",
       "      <td>...</td>\n",
       "      <td>0.05</td>\n",
       "      <td>NaN</td>\n",
       "      <td>1.0</td>\n",
       "      <td>0.1</td>\n",
       "      <td>NaN</td>\n",
       "      <td>中债-0-3年长三角地方政府债指数收益率</td>\n",
       "      <td>L</td>\n",
       "      <td>被动指数型</td>\n",
       "      <td>契约型开放式</td>\n",
       "      <td>E</td>\n",
       "    </tr>\n",
       "  </tbody>\n",
       "</table>\n",
       "<p>5 rows × 22 columns</p>\n",
       "</div>"
      ],
      "text/plain": [
       "     ts_code       name management custodian fund_type  found_date  due_date  \\\n",
       "0  159821.SZ     BOCI创业       中银证券    中国工商银行       股票型    20200929       NaN   \n",
       "1  159822.SZ        新经济       银华基金    中国工商银行       股票型    20200929       NaN   \n",
       "2  588080.SH   科创板50ETF      易方达基金    中国工商银行       股票型    20200928       NaN   \n",
       "3  588090.SH     科创板ETF     华泰柏瑞基金    中国建设银行       股票型    20200928       NaN   \n",
       "4  511000.SH  长三角地方债ETF       招商基金      浙商银行       债券型    20200928       NaN   \n",
       "\n",
       "    list_date  issue_date  delist_date  ...  c_fee  duration_year  p_value  \\\n",
       "0  20201029.0  20200914.0          NaN  ...   0.05            NaN      1.0   \n",
       "1  20201023.0  20200911.0          NaN  ...   0.10            NaN      1.0   \n",
       "2         NaN  20200922.0          NaN  ...   0.10            NaN      1.0   \n",
       "3         NaN  20200922.0          NaN  ...   0.10            NaN      1.0   \n",
       "4  20201029.0  20200622.0          NaN  ...   0.05            NaN      1.0   \n",
       "\n",
       "   min_amount  exp_return             benchmark  status invest_type    type  \\\n",
       "0         0.1         NaN              创业板指数收益率       L       被动指数型  契约型开放式   \n",
       "1         0.1         NaN  标普中国新经济行业(A股上限)指数收益率       L       被动指数型  契约型开放式   \n",
       "2         0.1         NaN        上证科创板50成份指数收益率       I       被动指数型  契约型开放式   \n",
       "3         0.1         NaN        上证科创板50成份指数收益率       I       被动指数型  契约型开放式   \n",
       "4         0.1         NaN  中债-0-3年长三角地方政府债指数收益率       L       被动指数型  契约型开放式   \n",
       "\n",
       "  market  \n",
       "0      E  \n",
       "1      E  \n",
       "2      E  \n",
       "3      E  \n",
       "4      E  \n",
       "\n",
       "[5 rows x 22 columns]"
      ]
     },
     "execution_count": 13,
     "metadata": {},
     "output_type": "execute_result"
    }
   ],
   "source": [
    "df_fund_basic.head()"
   ]
  },
  {
   "cell_type": "markdown",
   "metadata": {},
   "source": [
    "### 1.5 基金公司信息\n",
    "这部分数据主要包含了基金公司名称、简称、省份、城市等相关信息。"
   ]
  },
  {
   "cell_type": "markdown",
   "metadata": {},
   "source": [
    "|名称|类型|描述|\n",
    "|--|--|--|\n",
    "|name|str|<font  color=#009688  >**基金公司名称**</font>|\n",
    "|shortname|str|简称|\n",
    "|province|str|省份|\n",
    "|city|str|城市|\n",
    "|address|str|注册地址|\n",
    "|office|str|办公地址|\n",
    "|website|str|公司网址|\n",
    "|setup_date|str|成立日期|\n",
    "|end_date|str|公司终止日期|\n",
    "|main_business|str|主要产品及业务|"
   ]
  },
  {
   "cell_type": "code",
   "execution_count": 14,
   "metadata": {
    "ExecuteTime": {
     "end_time": "2020-01-10T11:52:39.898518Z",
     "start_time": "2020-01-10T11:52:30.471442Z"
    }
   },
   "outputs": [],
   "source": [
    "df_fund_company = pd.read_csv(data_path + '基金公司信息.csv', encoding = 'ansi')"
   ]
  },
  {
   "cell_type": "code",
   "execution_count": 15,
   "metadata": {
    "ExecuteTime": {
     "end_time": "2020-01-10T11:52:41.407278Z",
     "start_time": "2020-01-10T11:52:41.373275Z"
    }
   },
   "outputs": [
    {
     "data": {
      "text/html": [
       "<div>\n",
       "<style scoped>\n",
       "    .dataframe tbody tr th:only-of-type {\n",
       "        vertical-align: middle;\n",
       "    }\n",
       "\n",
       "    .dataframe tbody tr th {\n",
       "        vertical-align: top;\n",
       "    }\n",
       "\n",
       "    .dataframe thead th {\n",
       "        text-align: right;\n",
       "    }\n",
       "</style>\n",
       "<table border=\"1\" class=\"dataframe\">\n",
       "  <thead>\n",
       "    <tr style=\"text-align: right;\">\n",
       "      <th></th>\n",
       "      <th>0</th>\n",
       "      <th>1</th>\n",
       "      <th>2</th>\n",
       "      <th>3</th>\n",
       "      <th>4</th>\n",
       "    </tr>\n",
       "  </thead>\n",
       "  <tbody>\n",
       "    <tr>\n",
       "      <th>name</th>\n",
       "      <td>北京广能投资基金管理有限公司</td>\n",
       "      <td>宏源证券股份有限公司</td>\n",
       "      <td>国元证券股份有限公司</td>\n",
       "      <td>广发证券股份有限公司</td>\n",
       "      <td>长江证券股份有限公司</td>\n",
       "    </tr>\n",
       "    <tr>\n",
       "      <th>shortname</th>\n",
       "      <td>广能基金</td>\n",
       "      <td>宏源证券</td>\n",
       "      <td>国元证券</td>\n",
       "      <td>广发证券</td>\n",
       "      <td>长江证券</td>\n",
       "    </tr>\n",
       "    <tr>\n",
       "      <th>province</th>\n",
       "      <td>北京</td>\n",
       "      <td>新疆</td>\n",
       "      <td>安徽</td>\n",
       "      <td>广东</td>\n",
       "      <td>湖北</td>\n",
       "    </tr>\n",
       "    <tr>\n",
       "      <th>city</th>\n",
       "      <td>北京市</td>\n",
       "      <td>乌鲁木齐市</td>\n",
       "      <td>合肥市</td>\n",
       "      <td>广州市</td>\n",
       "      <td>武汉市</td>\n",
       "    </tr>\n",
       "    <tr>\n",
       "      <th>address</th>\n",
       "      <td>北京市朝阳区北四环中路27号院5号楼2712-2715A</td>\n",
       "      <td>新疆维吾尔自治区乌鲁木齐市文艺路233号宏源大厦</td>\n",
       "      <td>安徽省合肥市梅山路18号</td>\n",
       "      <td>广东省广州市黄埔区中新广州知识城腾飞一街2号618室</td>\n",
       "      <td>湖北省武汉市江汉区新华路特8号</td>\n",
       "    </tr>\n",
       "    <tr>\n",
       "      <th>phone</th>\n",
       "      <td>NaN</td>\n",
       "      <td>86-991-2301870</td>\n",
       "      <td>86-551-62207323,86-551-62207968</td>\n",
       "      <td>86-20-87555888,86-20-87550565,86-20-87550265</td>\n",
       "      <td>86-27-65799866,86-27-65799856</td>\n",
       "    </tr>\n",
       "    <tr>\n",
       "      <th>office</th>\n",
       "      <td>北京市朝阳区北四环中路27号院5号楼2712-2715A</td>\n",
       "      <td>新疆维吾尔自治区乌鲁木齐市文艺路233号宏源大厦</td>\n",
       "      <td>安徽省合肥市梅山路18号</td>\n",
       "      <td>广东省广州市天河区天河北路183-187号大都会广场40楼5楼,7楼,8楼,18楼,19楼,...</td>\n",
       "      <td>湖北省武汉市江汉区新华路特8号</td>\n",
       "    </tr>\n",
       "    <tr>\n",
       "      <th>website</th>\n",
       "      <td>www.gnfund.cn</td>\n",
       "      <td>www.hysec.com</td>\n",
       "      <td>www.gyzq.com.cn</td>\n",
       "      <td>www.gf.com.cn</td>\n",
       "      <td>www.cjsc.com</td>\n",
       "    </tr>\n",
       "    <tr>\n",
       "      <th>chairman</th>\n",
       "      <td>刘锡潜</td>\n",
       "      <td>冯戎</td>\n",
       "      <td>蔡咏</td>\n",
       "      <td>孙树明</td>\n",
       "      <td>尤习贵</td>\n",
       "    </tr>\n",
       "    <tr>\n",
       "      <th>manager</th>\n",
       "      <td>杨运成</td>\n",
       "      <td>冯戎</td>\n",
       "      <td>俞仕新</td>\n",
       "      <td>林治海</td>\n",
       "      <td>刘元瑞</td>\n",
       "    </tr>\n",
       "    <tr>\n",
       "      <th>reg_capital</th>\n",
       "      <td>10000</td>\n",
       "      <td>397241</td>\n",
       "      <td>336545</td>\n",
       "      <td>762109</td>\n",
       "      <td>552947</td>\n",
       "    </tr>\n",
       "    <tr>\n",
       "      <th>setup_date</th>\n",
       "      <td>20111031</td>\n",
       "      <td>19930525</td>\n",
       "      <td>19970606</td>\n",
       "      <td>19940121</td>\n",
       "      <td>19970724</td>\n",
       "    </tr>\n",
       "    <tr>\n",
       "      <th>end_date</th>\n",
       "      <td>NaN</td>\n",
       "      <td>NaN</td>\n",
       "      <td>NaN</td>\n",
       "      <td>NaN</td>\n",
       "      <td>NaN</td>\n",
       "    </tr>\n",
       "    <tr>\n",
       "      <th>employees</th>\n",
       "      <td>10</td>\n",
       "      <td>5347</td>\n",
       "      <td>3330</td>\n",
       "      <td>12103</td>\n",
       "      <td>6637</td>\n",
       "    </tr>\n",
       "    <tr>\n",
       "      <th>main_business</th>\n",
       "      <td>NaN</td>\n",
       "      <td>主要业务:代理买卖证券.</td>\n",
       "      <td>主营业务:经纪业务,自营投资业务,投行业务,资产管理业务,基金管理业务,期货业务,境外业务国...</td>\n",
       "      <td>主营业务:证券经纪</td>\n",
       "      <td>主营业务:证券经纪</td>\n",
       "    </tr>\n",
       "    <tr>\n",
       "      <th>org_code</th>\n",
       "      <td>584419680</td>\n",
       "      <td>228593068</td>\n",
       "      <td>731686376</td>\n",
       "      <td>126335439</td>\n",
       "      <td>700821272</td>\n",
       "    </tr>\n",
       "    <tr>\n",
       "      <th>credit_code</th>\n",
       "      <td>NaN</td>\n",
       "      <td>NaN</td>\n",
       "      <td>91340000731686376P</td>\n",
       "      <td>91440000126335439C</td>\n",
       "      <td>91420000700821272A</td>\n",
       "    </tr>\n",
       "  </tbody>\n",
       "</table>\n",
       "</div>"
      ],
      "text/plain": [
       "                                          0                         1  \\\n",
       "name                         北京广能投资基金管理有限公司                宏源证券股份有限公司   \n",
       "shortname                              广能基金                      宏源证券   \n",
       "province                                 北京                        新疆   \n",
       "city                                    北京市                     乌鲁木齐市   \n",
       "address        北京市朝阳区北四环中路27号院5号楼2712-2715A  新疆维吾尔自治区乌鲁木齐市文艺路233号宏源大厦   \n",
       "phone                                   NaN            86-991-2301870   \n",
       "office         北京市朝阳区北四环中路27号院5号楼2712-2715A  新疆维吾尔自治区乌鲁木齐市文艺路233号宏源大厦   \n",
       "website                       www.gnfund.cn             www.hysec.com   \n",
       "chairman                                刘锡潜                        冯戎   \n",
       "manager                                 杨运成                        冯戎   \n",
       "reg_capital                           10000                    397241   \n",
       "setup_date                         20111031                  19930525   \n",
       "end_date                                NaN                       NaN   \n",
       "employees                                10                      5347   \n",
       "main_business                           NaN              主要业务:代理买卖证券.   \n",
       "org_code                          584419680                 228593068   \n",
       "credit_code                             NaN                       NaN   \n",
       "\n",
       "                                                               2  \\\n",
       "name                                                  国元证券股份有限公司   \n",
       "shortname                                                   国元证券   \n",
       "province                                                      安徽   \n",
       "city                                                         合肥市   \n",
       "address                                             安徽省合肥市梅山路18号   \n",
       "phone                            86-551-62207323,86-551-62207968   \n",
       "office                                              安徽省合肥市梅山路18号   \n",
       "website                                          www.gyzq.com.cn   \n",
       "chairman                                                      蔡咏   \n",
       "manager                                                      俞仕新   \n",
       "reg_capital                                               336545   \n",
       "setup_date                                              19970606   \n",
       "end_date                                                     NaN   \n",
       "employees                                                   3330   \n",
       "main_business  主营业务:经纪业务,自营投资业务,投行业务,资产管理业务,基金管理业务,期货业务,境外业务国...   \n",
       "org_code                                               731686376   \n",
       "credit_code                                   91340000731686376P   \n",
       "\n",
       "                                                               3  \\\n",
       "name                                                  广发证券股份有限公司   \n",
       "shortname                                                   广发证券   \n",
       "province                                                      广东   \n",
       "city                                                         广州市   \n",
       "address                               广东省广州市黄埔区中新广州知识城腾飞一街2号618室   \n",
       "phone               86-20-87555888,86-20-87550565,86-20-87550265   \n",
       "office         广东省广州市天河区天河北路183-187号大都会广场40楼5楼,7楼,8楼,18楼,19楼,...   \n",
       "website                                            www.gf.com.cn   \n",
       "chairman                                                     孙树明   \n",
       "manager                                                      林治海   \n",
       "reg_capital                                               762109   \n",
       "setup_date                                              19940121   \n",
       "end_date                                                     NaN   \n",
       "employees                                                  12103   \n",
       "main_business                                          主营业务:证券经纪   \n",
       "org_code                                               126335439   \n",
       "credit_code                                   91440000126335439C   \n",
       "\n",
       "                                           4  \n",
       "name                              长江证券股份有限公司  \n",
       "shortname                               长江证券  \n",
       "province                                  湖北  \n",
       "city                                     武汉市  \n",
       "address                      湖北省武汉市江汉区新华路特8号  \n",
       "phone          86-27-65799866,86-27-65799856  \n",
       "office                       湖北省武汉市江汉区新华路特8号  \n",
       "website                         www.cjsc.com  \n",
       "chairman                                 尤习贵  \n",
       "manager                                  刘元瑞  \n",
       "reg_capital                           552947  \n",
       "setup_date                          19970724  \n",
       "end_date                                 NaN  \n",
       "employees                               6637  \n",
       "main_business                      主营业务:证券经纪  \n",
       "org_code                           700821272  \n",
       "credit_code               91420000700821272A  "
      ]
     },
     "execution_count": 15,
     "metadata": {},
     "output_type": "execute_result"
    }
   ],
   "source": [
    "df_fund_company.head().T"
   ]
  },
  {
   "cell_type": "markdown",
   "metadata": {},
   "source": [
    "### 1.6 基金持仓\n",
    "这部分数据主要包含了2019年以来公告的所有公募基金季度更新的持仓信息，通过它可以将基金和股票联系起来。"
   ]
  },
  {
   "cell_type": "markdown",
   "metadata": {},
   "source": [
    "|名称|类型|描述|\n",
    "|--|--|--|\n",
    "|ts_code| str| <font  color=#009688  >**基金代码**</font>|\n",
    "|ann_date|str | 公告日期|\n",
    "|end_date|str | 截止日期|\n",
    "|symbol|str|   <font  color=#009688  >**股票代码**</font>|"
   ]
  },
  {
   "cell_type": "code",
   "execution_count": 18,
   "metadata": {
    "ExecuteTime": {
     "end_time": "2020-01-10T11:55:53.238567Z",
     "start_time": "2020-01-10T11:55:53.222565Z"
    }
   },
   "outputs": [
    {
     "data": {
      "text/html": [
       "<div>\n",
       "<style scoped>\n",
       "    .dataframe tbody tr th:only-of-type {\n",
       "        vertical-align: middle;\n",
       "    }\n",
       "\n",
       "    .dataframe tbody tr th {\n",
       "        vertical-align: top;\n",
       "    }\n",
       "\n",
       "    .dataframe thead th {\n",
       "        text-align: right;\n",
       "    }\n",
       "</style>\n",
       "<table border=\"1\" class=\"dataframe\">\n",
       "  <thead>\n",
       "    <tr style=\"text-align: right;\">\n",
       "      <th></th>\n",
       "      <th>ts_code</th>\n",
       "      <th>ann_date</th>\n",
       "      <th>end_date</th>\n",
       "      <th>symbol</th>\n",
       "      <th>mkv</th>\n",
       "      <th>amount</th>\n",
       "      <th>stk_mkv_ratio</th>\n",
       "      <th>stk_float_ratio</th>\n",
       "    </tr>\n",
       "  </thead>\n",
       "  <tbody>\n",
       "    <tr>\n",
       "      <th>0</th>\n",
       "      <td>150032.SZ</td>\n",
       "      <td>20160420</td>\n",
       "      <td>20160331</td>\n",
       "      <td>000998.SZ</td>\n",
       "      <td>993524.0</td>\n",
       "      <td>54800.0</td>\n",
       "      <td>10.36</td>\n",
       "      <td>0.01</td>\n",
       "    </tr>\n",
       "    <tr>\n",
       "      <th>1</th>\n",
       "      <td>150032.SZ</td>\n",
       "      <td>20160420</td>\n",
       "      <td>20160331</td>\n",
       "      <td>601088.SH</td>\n",
       "      <td>1782808.0</td>\n",
       "      <td>126800.0</td>\n",
       "      <td>18.59</td>\n",
       "      <td>0.00</td>\n",
       "    </tr>\n",
       "    <tr>\n",
       "      <th>2</th>\n",
       "      <td>150032.SZ</td>\n",
       "      <td>20160420</td>\n",
       "      <td>20160331</td>\n",
       "      <td>300203.SZ</td>\n",
       "      <td>1119971.4</td>\n",
       "      <td>42747.0</td>\n",
       "      <td>11.68</td>\n",
       "      <td>0.01</td>\n",
       "    </tr>\n",
       "    <tr>\n",
       "      <th>3</th>\n",
       "      <td>150032.SZ</td>\n",
       "      <td>20160420</td>\n",
       "      <td>20160331</td>\n",
       "      <td>300012.SZ</td>\n",
       "      <td>307703.1</td>\n",
       "      <td>14590.0</td>\n",
       "      <td>3.21</td>\n",
       "      <td>0.00</td>\n",
       "    </tr>\n",
       "    <tr>\n",
       "      <th>4</th>\n",
       "      <td>150032.SZ</td>\n",
       "      <td>20160420</td>\n",
       "      <td>20160331</td>\n",
       "      <td>600900.SH</td>\n",
       "      <td>520672.0</td>\n",
       "      <td>42400.0</td>\n",
       "      <td>5.43</td>\n",
       "      <td>0.00</td>\n",
       "    </tr>\n",
       "  </tbody>\n",
       "</table>\n",
       "</div>"
      ],
      "text/plain": [
       "     ts_code  ann_date  end_date     symbol        mkv    amount  \\\n",
       "0  150032.SZ  20160420  20160331  000998.SZ   993524.0   54800.0   \n",
       "1  150032.SZ  20160420  20160331  601088.SH  1782808.0  126800.0   \n",
       "2  150032.SZ  20160420  20160331  300203.SZ  1119971.4   42747.0   \n",
       "3  150032.SZ  20160420  20160331  300012.SZ   307703.1   14590.0   \n",
       "4  150032.SZ  20160420  20160331  600900.SH   520672.0   42400.0   \n",
       "\n",
       "   stk_mkv_ratio  stk_float_ratio  \n",
       "0          10.36             0.01  \n",
       "1          18.59             0.00  \n",
       "2          11.68             0.01  \n",
       "3           3.21             0.00  \n",
       "4           5.43             0.00  "
      ]
     },
     "execution_count": 18,
     "metadata": {},
     "output_type": "execute_result"
    }
   ],
   "source": [
    "df_fund_portfolio = pd.read_csv(data_path + '基金持仓.csv', encoding = 'ansi').iloc[:,1:]\n",
    "df_fund_portfolio.head()"
   ]
  },
  {
   "cell_type": "markdown",
   "metadata": {},
   "source": [
    "**<font color = red>问题四：基于“基金持仓”数据，按照持股市值排序降序列出在2010年第二季度公告持有万科A(000002.SZ)的基金，并列出基金代码、基金简称、持有市值、基金管理人和托管人等信息。请你补充所需要的代码到下面一个代码块，并打印输出结果：</font>**"
   ]
  },
  {
   "cell_type": "code",
   "execution_count": 19,
   "metadata": {},
   "outputs": [
    {
     "name": "stdout",
     "output_type": "stream",
     "text": [
      "      ts_code           mkv    name management custodian\n",
      "0   160505.SZ  3.525594e+08    博时主题       博时基金    中国建设银行\n",
      "1   160716.SZ  5.899776e+07    嘉实50       嘉实基金    中国工商银行\n",
      "2   162307.SZ  3.113594e+07   海富100      海富通基金      中国银行\n",
      "3   519918.OF  2.951847e+07    华夏兴和       华夏基金    中国建设银行\n",
      "4   160627.OF  1.368416e+07  鹏华策略优选       鹏华基金    中国工商银行\n",
      "5  1618111.SZ  7.385081e+06   银华300       银华基金    中国建设银行\n",
      "6   519909.OF  6.780000e+04    华安安顺       华安基金      交通银行\n"
     ]
    }
   ],
   "source": [
    "df_fund_portfolio1 = df_fund_portfolio[(df_fund_portfolio['symbol'] == '000002.SZ') & (df_fund_portfolio['end_date'] == 20100630)][['ts_code','mkv']].sort_values(by = 'mkv', ascending = False)\n",
    "df_fund_basic1 = df_fund_basic[df_fund_basic['ts_code'].isin(list(df_fund_portfolio1['ts_code']))][['ts_code','name', 'management', 'custodian']] \n",
    "print(pd.merge(df_fund_portfolio1, df_fund_basic1, on = 'ts_code'))"
   ]
  },
  {
   "cell_type": "markdown",
   "metadata": {},
   "source": [
    "**<font color = red>问题五：请找出江苏省最受基金欢迎的10家上市公司，列出它们所在的城市并统计持有它们的基金的数目。请你补充所需要的代码到下面一个代码块，并打印输出结果：</font>**"
   ]
  },
  {
   "cell_type": "code",
   "execution_count": 30,
   "metadata": {},
   "outputs": [
    {
     "data": {
      "text/html": [
       "<div>\n",
       "<style scoped>\n",
       "    .dataframe tbody tr th:only-of-type {\n",
       "        vertical-align: middle;\n",
       "    }\n",
       "\n",
       "    .dataframe tbody tr th {\n",
       "        vertical-align: top;\n",
       "    }\n",
       "\n",
       "    .dataframe thead th {\n",
       "        text-align: right;\n",
       "    }\n",
       "</style>\n",
       "<table border=\"1\" class=\"dataframe\">\n",
       "  <thead>\n",
       "    <tr style=\"text-align: right;\">\n",
       "      <th></th>\n",
       "      <th>count</th>\n",
       "      <th>ts_code</th>\n",
       "      <th>province</th>\n",
       "      <th>city</th>\n",
       "    </tr>\n",
       "  </thead>\n",
       "  <tbody>\n",
       "    <tr>\n",
       "      <th>901</th>\n",
       "      <td>1216</td>\n",
       "      <td>300842.SZ</td>\n",
       "      <td>江苏</td>\n",
       "      <td>无锡市</td>\n",
       "    </tr>\n",
       "    <tr>\n",
       "      <th>3397</th>\n",
       "      <td>1144</td>\n",
       "      <td>600276.SH</td>\n",
       "      <td>江苏</td>\n",
       "      <td>连云港市</td>\n",
       "    </tr>\n",
       "    <tr>\n",
       "      <th>3984</th>\n",
       "      <td>963</td>\n",
       "      <td>601688.SH</td>\n",
       "      <td>江苏</td>\n",
       "      <td>南京市</td>\n",
       "    </tr>\n",
       "    <tr>\n",
       "      <th>727</th>\n",
       "      <td>958</td>\n",
       "      <td>300782.SZ</td>\n",
       "      <td>江苏</td>\n",
       "      <td>无锡市</td>\n",
       "    </tr>\n",
       "    <tr>\n",
       "      <th>4157</th>\n",
       "      <td>841</td>\n",
       "      <td>688377.SH</td>\n",
       "      <td>江苏</td>\n",
       "      <td>南京市</td>\n",
       "    </tr>\n",
       "    <tr>\n",
       "      <th>4001</th>\n",
       "      <td>772</td>\n",
       "      <td>603259.SH</td>\n",
       "      <td>江苏</td>\n",
       "      <td>无锡市</td>\n",
       "    </tr>\n",
       "    <tr>\n",
       "      <th>2098</th>\n",
       "      <td>702</td>\n",
       "      <td>002304.SZ</td>\n",
       "      <td>江苏</td>\n",
       "      <td>宿迁市</td>\n",
       "    </tr>\n",
       "    <tr>\n",
       "      <th>2729</th>\n",
       "      <td>674</td>\n",
       "      <td>601009.SH</td>\n",
       "      <td>江苏</td>\n",
       "      <td>南京市</td>\n",
       "    </tr>\n",
       "    <tr>\n",
       "      <th>2700</th>\n",
       "      <td>653</td>\n",
       "      <td>603655.SH</td>\n",
       "      <td>江苏</td>\n",
       "      <td>常州市</td>\n",
       "    </tr>\n",
       "    <tr>\n",
       "      <th>2711</th>\n",
       "      <td>652</td>\n",
       "      <td>603283.SH</td>\n",
       "      <td>江苏</td>\n",
       "      <td>苏州市</td>\n",
       "    </tr>\n",
       "  </tbody>\n",
       "</table>\n",
       "</div>"
      ],
      "text/plain": [
       "      count    ts_code province  city\n",
       "901    1216  300842.SZ       江苏   无锡市\n",
       "3397   1144  600276.SH       江苏  连云港市\n",
       "3984    963  601688.SH       江苏   南京市\n",
       "727     958  300782.SZ       江苏   无锡市\n",
       "4157    841  688377.SH       江苏   南京市\n",
       "4001    772  603259.SH       江苏   无锡市\n",
       "2098    702  002304.SZ       江苏   宿迁市\n",
       "2729    674  601009.SH       江苏   南京市\n",
       "2700    653  603655.SH       江苏   常州市\n",
       "2711    652  603283.SH       江苏   苏州市"
      ]
     },
     "execution_count": 30,
     "metadata": {},
     "output_type": "execute_result"
    }
   ],
   "source": [
    "df_company_detail1 = df_company_detail[['ts_code', 'province']].rename(columns = {'ts_code': 'symbol'})\n",
    "df_fund_portfolio1 = pd.merge(df_fund_portfolio, df_company_detail1, on = ['symbol'])\n",
    "df_fund_portfolio1 = df_fund_portfolio1.drop_duplicates(subset = ['ts_code','symbol'], keep = 'first')\n",
    "top10 = pd.DataFrame(df_fund_portfolio1['symbol'].value_counts()).rename(columns = {'symbol': 'count'})\n",
    "top10 = pd.merge(top10, df_company_detail[['ts_code', 'province', 'city']], left_index = True, right_on = 'ts_code')\n",
    "top10 = top10[top10['province'] == '江苏'].iloc[0:10,:]\n",
    "top10"
   ]
  },
  {
   "cell_type": "markdown",
   "metadata": {},
   "source": [
    "## 2 构建数据模型 \n"
   ]
  },
  {
   "cell_type": "markdown",
   "metadata": {},
   "source": [
    "在资本市场中，根据不同的公司类型，我们可以将公司分为上市公司、基金管理公司以及基金托管公司；根据不同的职能我们可以将公司的管理者类型进行划分；此外资本市场还有各种各样的基金、各种行业类型，现实生活中我们还有省份和城市这样的区位属性。这些都可以作为我们资本市场中的实体进行研究。我们对以上数据进行梳理，基于其内部的关联关系，确定以下节点和关系以构建数据模型。\n",
    "\n",
    "**实体(节点)：**\n",
    "1. 公司(上市公司/基金管理公司/基金托管公司)\n",
    "2. 行业\n",
    "3. 省份\n",
    "4. 城市\n",
    "5. 人（上市公司董监会人员）\n",
    "6. 基金\n",
    "\n",
    "**关系：**\n",
    "1. 根据城市和省份本身的对应关系可以得到：城市 - [IN_PROVINCE] → 省份 \n",
    "2. 根据各公司的地理信息可以得到：公司(上市公司/基金管理公司/基金托管公司) - [IN_CITY] → 城市\n",
    "4. 根据上市公司的董监会人员信息可以得到：公司(上市公司) - [HAS_MANEGER] → 人（上市公司管理层）  [6类]\n",
    "5. 根据上市公司基本信息可以得到：公司(上市公司) - [IN_INDUSTRY] → 行业\n",
    "6. 根据基金的基本信息可以得到：基金  - [HAS_MANAGEMNET] → 公司(基金管理公司)\n",
    "6. 根据基金的基本信息可以得到：基金  - [HAS_CUSTODIAN] → 公司(基金托管公司)\n",
    "7. 根据基金的持仓数据可以得到：基金  - [IN_PORTFOLIO] →  公司(上市公司)\n",
    "\n",
    "基于以上节点和关系，我们进行数据抽取。"
   ]
  },
  {
   "cell_type": "markdown",
   "metadata": {},
   "source": [
    "**<font color = red>问题六：请你绘制一张资本市场数据模型简图，标记出以上实体和关系，并且标记出它们是通过什么字段进行联系的。请在下方位置插入图片：</font>**"
   ]
  },
  {
   "cell_type": "markdown",
   "metadata": {},
   "source": [
    "![title](img/网络图.jpg)"
   ]
  },
  {
   "cell_type": "code",
   "execution_count": 31,
   "metadata": {},
   "outputs": [],
   "source": [
    "output_path = './data/output/' # 该文件夹将用于放置数据抽取得到的相关节点和关系文件"
   ]
  },
  {
   "cell_type": "code",
   "execution_count": 32,
   "metadata": {},
   "outputs": [],
   "source": [
    "all_dicts ={}"
   ]
  },
  {
   "cell_type": "markdown",
   "metadata": {},
   "source": [
    "## 2.1 实体\n",
    "在资本市场中，根据不同的公司类型，我们可以将公司分为上市公司、基金管理公司以及基金托管公司；根据不同的职能我们可以将公司的管理者类型进行划分；此外资本市场还有各种各样的基金、各种行业类型，现实生活中我们还有省份和城市这样的区位属性。这些都可以作为我们资本市场中的实体进行研究。\n",
    "### 2.1.1 公司\n",
    "公司这个实体包含三类数据，分别是上市公司、基金管理公司以及基金托管公司。我们首先需要将这三类公司的相关数据做合并处理，再进行数据抽取。\n",
    "#### 2.1.1.1 上市公司\n",
    "* **为上市公司建立标签**"
   ]
  },
  {
   "cell_type": "code",
   "execution_count": 33,
   "metadata": {},
   "outputs": [],
   "source": [
    "df_company_lsit_all['list_date'] = df_company_lsit_all['list_date'].apply(lambda x: -1 if pd.isnull(x) else int(x) )# 处理日期\n",
    "df_company_lsit_all['delist_date'] = df_company_lsit_all['delist_date'].apply(lambda x: -1 if pd.isnull(x) else int(x) )# 处理日期\n",
    "\n",
    "#建立标签\n",
    "df_company_lsit_all['label_listed_company']='LISTED_COMPANY'"
   ]
  },
  {
   "cell_type": "markdown",
   "metadata": {},
   "source": [
    "#### 2.1.1.2 基金管理公司\n",
    "*  **处理并补充基金管理公司信息**  \n",
    "\n",
    "我们发现fund_company表中的基金管理公司（name）和fund_basic表中的基金管理人（management）有五个银行、一个券商和一个资管名称公司简称并**没有对齐**，这会带来后续的问题。\n",
    "\n",
    "因此，需要我们手工对齐："
   ]
  },
  {
   "cell_type": "markdown",
   "metadata": {},
   "source": [
    "**<font color = red>问题七：现在这7个没有对齐的实体里有两个是空缺的，实体没有对齐可能会引发后续的报错，请你根据报错提示找到剩下的两个实体，并将其对齐，填充到下面的词典中：</font>**"
   ]
  },
  {
   "cell_type": "code",
   "execution_count": 34,
   "metadata": {},
   "outputs": [],
   "source": [
    "comp_simplify_dict = {\n",
    "    '中国民生银行':'民生银行',\n",
    "    '中国光大银行':'光大银行', \n",
    "    '中国工商银行':'工商银行', \n",
    "    '中国建设银行':'建设银行',\n",
    "    '中国农业银行':'农业银行',\n",
    "    '中银国际证券':'中银证券',\n",
    "    '财通证券资管':'财通资管'\n",
    "}"
   ]
  },
  {
   "cell_type": "markdown",
   "metadata": {},
   "source": [
    "此外，fund_basic表里有18个基金管理人（management）没有在fund_company表中出现，需要额外补全其全称。"
   ]
  },
  {
   "cell_type": "markdown",
   "metadata": {},
   "source": [
    "**<font color = red>问题八：现在fund_company表中的18个缺失的里有6个是空缺的，名称的缺失可能会引发后续的报错，请你根据报错提示找到缺失的其他6个基金管理人，并查询对应的信息，填充到下面的词典中：</font>**"
   ]
  },
  {
   "cell_type": "code",
   "execution_count": 35,
   "metadata": {},
   "outputs": [],
   "source": [
    "# 基金管理人补齐全称\n",
    "fund_manage_fullname_dict = {\n",
    "    '东证资管':'东方证券资产管理有限公司',\n",
    "    '中泰资管':'中泰证券（上海）资产管理有限公司',\n",
    "    '华泰证券资管':'华华泰证券资产管理公司',\n",
    "    '华融基金':'华融基金管理有限公司',\n",
    "    '博远基金':'博远基金管理有限公司',\n",
    "    '同泰基金':'同泰基金管理有限公司',\n",
    "    '平安基金':'平安基金管理有限公司',\n",
    "    '惠升基金':'惠升基金管理有限公司',\n",
    "    '朱雀基金':'朱雀基金管理有限公司',\n",
    "    '淳厚基金':'淳厚基金管理有限公司',\n",
    "    '睿远基金':'睿远基金管理有限公司',\n",
    "    '西藏东财基金':'西藏东财基金管理有限公司',\n",
    "    '山西证券':'山西证券股份有限公司',\n",
    "    '恒丰银行':'恒丰银行股份有限公司',\n",
    "    '广发银行':'广发银行股份有限公司',\n",
    "    '兴证全球基金':'兴证全球基金管理有限公司',\n",
    "    '达诚基金':'达诚基金管理有限公司',\n",
    "    '明亚基金':'明亚基金管理有限责任公司'\n",
    "} "
   ]
  },
  {
   "cell_type": "markdown",
   "metadata": {},
   "source": [
    "基于以上信息处理得到新的fund_company表中的基金管理人数据："
   ]
  },
  {
   "cell_type": "code",
   "execution_count": 36,
   "metadata": {},
   "outputs": [],
   "source": [
    "usecols = ['name','shortname','province','city','address','office','website',\n",
    "            'setup_date','end_date','main_business','org_code','credit_code']\n",
    "df_fund_company = df_fund_company[usecols]"
   ]
  },
  {
   "cell_type": "markdown",
   "metadata": {},
   "source": [
    "**<font color = red>问题九：基于前面我们找到的基金管理人缺漏词典，我们可以对df_fund_company数据框里面的'name'这一列进行补充，得到完整的基金管理人全称数据，请你补充所需要的代码到下面一个代码块的最后一行：</font>**"
   ]
  },
  {
   "cell_type": "code",
   "execution_count": 37,
   "metadata": {},
   "outputs": [],
   "source": [
    "df_fund_company['setup_date'] = df_fund_company['setup_date'].apply(lambda x: -1 if pd.isnull(x) else int(x) )\n",
    "df_fund_company['end_date'] = df_fund_company['end_date'].apply(lambda x: -1 if pd.isnull(x) else int(x) )\n",
    "df_fund_company = df_fund_company.rename(columns ={'name':'fullname','shortname':'name'}).drop_duplicates()\n",
    "df_fund_company['name'] = df_fund_company['name'].apply(lambda x : comp_simplify_dict[x] if x in comp_simplify_dict.keys() else x )"
   ]
  },
  {
   "cell_type": "markdown",
   "metadata": {},
   "source": [
    "基于以上信息处理得到新的fund_basic表中的基金管理公司数据："
   ]
  },
  {
   "cell_type": "code",
   "execution_count": 38,
   "metadata": {},
   "outputs": [],
   "source": [
    "df_fund_basic['management'] = df_fund_basic['management'].apply(lambda x : comp_simplify_dict[x] if x in comp_simplify_dict.keys() else x )\n",
    "df_fund_basic['custodian'] = df_fund_basic['custodian'].apply(lambda x : comp_simplify_dict[x] if x in comp_simplify_dict.keys() else x )"
   ]
  },
  {
   "cell_type": "code",
   "execution_count": 39,
   "metadata": {},
   "outputs": [],
   "source": [
    "# 抽取df_fund_basic中基金管理人management的实体信息\n",
    "node_fund_management = df_fund_basic.loc[df_fund_basic.management.notnull(),['management']]\n",
    "node_fund_management = node_fund_management.rename(columns = {'management':'name'})"
   ]
  },
  {
   "cell_type": "markdown",
   "metadata": {},
   "source": [
    "* **合并基金管理公司数据，为基金管理公司建立实体标签**"
   ]
  },
  {
   "cell_type": "code",
   "execution_count": 40,
   "metadata": {},
   "outputs": [],
   "source": [
    "df_fund_company = pd.merge(df_fund_company,node_fund_management,on=['name'],how='outer').drop_duplicates()\n",
    "df_fund_company['fullname'] = df_fund_company.apply(lambda x:fund_manage_fullname_dict[x['name']] if pd.isnull(x['fullname']) else x['fullname'],axis=1 )\n",
    "df_fund_company['label_manager'] = 'FUND_MANAGER'"
   ]
  },
  {
   "cell_type": "markdown",
   "metadata": {},
   "source": [
    "#### 2.1.1.3 基金托管公司  "
   ]
  },
  {
   "cell_type": "markdown",
   "metadata": {},
   "source": [
    "* **为基金托管公司建立实体标签**"
   ]
  },
  {
   "cell_type": "code",
   "execution_count": 41,
   "metadata": {},
   "outputs": [
    {
     "data": {
      "text/html": [
       "<div>\n",
       "<style scoped>\n",
       "    .dataframe tbody tr th:only-of-type {\n",
       "        vertical-align: middle;\n",
       "    }\n",
       "\n",
       "    .dataframe tbody tr th {\n",
       "        vertical-align: top;\n",
       "    }\n",
       "\n",
       "    .dataframe thead th {\n",
       "        text-align: right;\n",
       "    }\n",
       "</style>\n",
       "<table border=\"1\" class=\"dataframe\">\n",
       "  <thead>\n",
       "    <tr style=\"text-align: right;\">\n",
       "      <th></th>\n",
       "      <th>name</th>\n",
       "      <th>label_custodian</th>\n",
       "    </tr>\n",
       "  </thead>\n",
       "  <tbody>\n",
       "    <tr>\n",
       "      <th>0</th>\n",
       "      <td>工商银行</td>\n",
       "      <td>FUND_CUSTODIAN</td>\n",
       "    </tr>\n",
       "    <tr>\n",
       "      <th>3</th>\n",
       "      <td>建设银行</td>\n",
       "      <td>FUND_CUSTODIAN</td>\n",
       "    </tr>\n",
       "    <tr>\n",
       "      <th>4</th>\n",
       "      <td>浙商银行</td>\n",
       "      <td>FUND_CUSTODIAN</td>\n",
       "    </tr>\n",
       "    <tr>\n",
       "      <th>5</th>\n",
       "      <td>农业银行</td>\n",
       "      <td>FUND_CUSTODIAN</td>\n",
       "    </tr>\n",
       "    <tr>\n",
       "      <th>6</th>\n",
       "      <td>招商银行</td>\n",
       "      <td>FUND_CUSTODIAN</td>\n",
       "    </tr>\n",
       "  </tbody>\n",
       "</table>\n",
       "</div>"
      ],
      "text/plain": [
       "   name label_custodian\n",
       "0  工商银行  FUND_CUSTODIAN\n",
       "3  建设银行  FUND_CUSTODIAN\n",
       "4  浙商银行  FUND_CUSTODIAN\n",
       "5  农业银行  FUND_CUSTODIAN\n",
       "6  招商银行  FUND_CUSTODIAN"
      ]
     },
     "execution_count": 41,
     "metadata": {},
     "output_type": "execute_result"
    }
   ],
   "source": [
    "node_fund_custodian = df_fund_basic.loc[df_fund_basic.custodian.notnull(),['custodian']].drop_duplicates()\n",
    "node_fund_custodian = node_fund_custodian.rename(columns = {'custodian':'name'})\n",
    "node_fund_custodian['label_custodian'] = 'FUND_CUSTODIAN'\n",
    "node_fund_custodian.head()"
   ]
  },
  {
   "cell_type": "markdown",
   "metadata": {},
   "source": [
    "#### 2.1.1.4 合并上市公司、基金管理公司以及基金托管公司的标签"
   ]
  },
  {
   "cell_type": "code",
   "execution_count": 42,
   "metadata": {},
   "outputs": [
    {
     "data": {
      "text/plain": [
       "19286    浦发银行/上海浦东发展银行\n",
       "19287             广发银行\n",
       "19288         中国邮政储蓄银行\n",
       "19289             恒丰银行\n",
       "Name: name, dtype: object"
      ]
     },
     "execution_count": 42,
     "metadata": {},
     "output_type": "execute_result"
    }
   ],
   "source": [
    "node_companies = pd.merge(df_company_lsit_all,df_fund_company,on=['fullname','name'],how='outer').drop_duplicates()\n",
    "node_companies = pd.merge(node_companies,node_fund_custodian,on=['name'],how='outer').drop_duplicates()\n",
    "node_companies[node_companies.fullname.isnull()].name"
   ]
  },
  {
   "cell_type": "markdown",
   "metadata": {},
   "source": [
    "**<font color = red>问题十：我们可以发现有 4 家公司全称并没有拼上，分别是浦发银行/上海浦东发展银行，广发银行，中国邮政储蓄银行，恒丰银行。请你自行查询，将四个公司的全名补上，并将代码展示在下面：</font>**"
   ]
  },
  {
   "cell_type": "code",
   "execution_count": 43,
   "metadata": {},
   "outputs": [],
   "source": [
    "node_companies.loc[node_companies.name == '浦发银行/上海浦东发展银行','fullname'] = '上海浦东发展银行股份有限公司'\n",
    "node_companies.loc[node_companies.name == '广发银行','fullname'] = '广发银行股份有限公司'\n",
    "node_companies.loc[node_companies.name == '中国邮政储蓄银行','fullname'] = '中国邮政储蓄银行股份有限公司'\n",
    "node_companies.loc[node_companies.name == '恒丰银行','fullname'] = '恒丰银行股份有限公司'"
   ]
  },
  {
   "cell_type": "code",
   "execution_count": 44,
   "metadata": {},
   "outputs": [
    {
     "data": {
      "text/plain": [
       "Series([], Name: name, dtype: object)"
      ]
     },
     "execution_count": 44,
     "metadata": {},
     "output_type": "execute_result"
    }
   ],
   "source": [
    "node_companies[node_companies.fullname.isnull()].name"
   ]
  },
  {
   "cell_type": "markdown",
   "metadata": {},
   "source": [
    "#### 2.1.1.5  处理标签"
   ]
  },
  {
   "cell_type": "code",
   "execution_count": 45,
   "metadata": {},
   "outputs": [],
   "source": [
    "# 处理缺失值\n",
    "node_companies['label_listed_company'] = node_companies['label_listed_company'].fillna('')\n",
    "node_companies['label_manager'] = node_companies['label_manager'].fillna('')\n",
    "node_companies['label_custodian'] = node_companies['label_custodian'].fillna('')"
   ]
  },
  {
   "cell_type": "markdown",
   "metadata": {},
   "source": [
    "**<font color = red>问题十一：针对上面三种公司，我们在node_companies数据框中给出了不同的列分别作为它们的标签，但是这还不是理想的公司标签，我们应该把它汇总起来，现在请你为node_companies数据框再创建一列：node_companies['label']，将三种标签汇集到这一行来，并补充完整下面的代码块：</font>**"
   ]
  },
  {
   "cell_type": "code",
   "execution_count": 46,
   "metadata": {},
   "outputs": [],
   "source": [
    "# 定义汇总标签函数\n",
    "def join_label(ls):\n",
    "    return 'COMPANY;'+ ';'.join([c for c in ls  if c !=''])"
   ]
  },
  {
   "cell_type": "code",
   "execution_count": 47,
   "metadata": {},
   "outputs": [],
   "source": [
    "# 汇总标签\n",
    "node_companies['label'] = node_companies.apply(lambda x: join_label([x['label_listed_company'],x['label_manager'],x['label_custodian']]),axis=1)"
   ]
  },
  {
   "cell_type": "markdown",
   "metadata": {},
   "source": [
    "#### 2.1.1.6 抽取公司实体的数据，并创建头文件"
   ]
  },
  {
   "cell_type": "code",
   "execution_count": 48,
   "metadata": {},
   "outputs": [],
   "source": [
    "# 基于company_lsit_all表，定义用于抽取公司实体所对应的相关信息的字典\n",
    "all_dicts['node_companies'] = {  'fullname':'company:ID(company)', \n",
    "                            'name':'short_name', # 股票名称\n",
    "                            'symbol':'share_code', # 股票全称\n",
    "                            'market':'market', # 市场类型 （主板/中小板/创业板/科创板）\n",
    "                            'exchange':'exchange', # 交易所代码\n",
    "                            'list_status':'list_status', # 上市状态： L上市 D退市 P暂停上市\n",
    "                            'list_date':'list_date:float', # 上市日期\n",
    "                            'delist_date':'delist_date:float', # 退市日期\n",
    "                            'setup_date':'setup_date',   # 成立日期\n",
    "                            'label':':LABEL'\n",
    "                           }"
   ]
  },
  {
   "cell_type": "code",
   "execution_count": 49,
   "metadata": {},
   "outputs": [],
   "source": [
    "# 定义函数，用来基于上述字典，抽取公司实体所对应的相关信息，并创建头文件，该函数将重复用于后续的实体和关系\n",
    "def generate_input_files(data,dicts,types,output_path='../data/output/'):\n",
    "    cols = dicts.keys()\n",
    "    temp = data[list(cols)]\n",
    "    temp.drop_duplicates(cols,inplace=True)\n",
    "\n",
    "    print('save header {}..')\n",
    "    columns = ','.join(dicts.values())\n",
    "    with open(output_path+'{}-header.csv'.format(types),'w') as f:\n",
    "        f.write(columns)\n",
    "    \n",
    "    print('save_data ...\\n',output_path+'{}.csv'.format(types))\n",
    "    temp.to_csv(output_path+'{}.csv'.format(types),index=False,header=False)\n",
    "    print(temp.shape)\n",
    "    return temp"
   ]
  },
  {
   "cell_type": "code",
   "execution_count": 50,
   "metadata": {},
   "outputs": [
    {
     "name": "stdout",
     "output_type": "stream",
     "text": [
      "save header {}..\n",
      "save_data ...\n",
      " ./data/output/node_companies.csv\n",
      "(19290, 10)\n"
     ]
    }
   ],
   "source": [
    "types = 'node_companies'\n",
    "temp = generate_input_files(node_companies,dicts=all_dicts[types] ,types = types,output_path = output_path)"
   ]
  },
  {
   "cell_type": "markdown",
   "metadata": {},
   "source": [
    "### 2.1.2 行业\n",
    "#### 2.1.2.1 为行业建立实体标签\n",
    "**<font color = red>问题十二：请你观察下面代码块的输出，创建我们所需要的df_industry数据框。在这里提示你，这个数据框没有重复的行，并且一共81行。此外你还要再创建一列实体标签。请你补充完整下面的代码块：</font>**"
   ]
  },
  {
   "cell_type": "code",
   "execution_count": 51,
   "metadata": {},
   "outputs": [
    {
     "data": {
      "text/html": [
       "<div>\n",
       "<style scoped>\n",
       "    .dataframe tbody tr th:only-of-type {\n",
       "        vertical-align: middle;\n",
       "    }\n",
       "\n",
       "    .dataframe tbody tr th {\n",
       "        vertical-align: top;\n",
       "    }\n",
       "\n",
       "    .dataframe thead th {\n",
       "        text-align: right;\n",
       "    }\n",
       "</style>\n",
       "<table border=\"1\" class=\"dataframe\">\n",
       "  <thead>\n",
       "    <tr style=\"text-align: right;\">\n",
       "      <th></th>\n",
       "      <th>industry</th>\n",
       "      <th>label</th>\n",
       "    </tr>\n",
       "  </thead>\n",
       "  <tbody>\n",
       "    <tr>\n",
       "      <th>0</th>\n",
       "      <td>货币金融服务</td>\n",
       "      <td>INDUSTRY</td>\n",
       "    </tr>\n",
       "    <tr>\n",
       "      <th>1</th>\n",
       "      <td>房地产业</td>\n",
       "      <td>INDUSTRY</td>\n",
       "    </tr>\n",
       "    <tr>\n",
       "      <th>2</th>\n",
       "      <td>软件和信息技术服务业</td>\n",
       "      <td>INDUSTRY</td>\n",
       "    </tr>\n",
       "    <tr>\n",
       "      <th>3</th>\n",
       "      <td>生态保护和环境治理业</td>\n",
       "      <td>INDUSTRY</td>\n",
       "    </tr>\n",
       "    <tr>\n",
       "      <th>4</th>\n",
       "      <td>铁路、船舶、航空航天和其它运输设备制造业</td>\n",
       "      <td>INDUSTRY</td>\n",
       "    </tr>\n",
       "  </tbody>\n",
       "</table>\n",
       "</div>"
      ],
      "text/plain": [
       "               industry     label\n",
       "0                货币金融服务  INDUSTRY\n",
       "1                  房地产业  INDUSTRY\n",
       "2            软件和信息技术服务业  INDUSTRY\n",
       "3            生态保护和环境治理业  INDUSTRY\n",
       "4  铁路、船舶、航空航天和其它运输设备制造业  INDUSTRY"
      ]
     },
     "execution_count": 51,
     "metadata": {},
     "output_type": "execute_result"
    }
   ],
   "source": [
    "df_industry = pd.DataFrame({'industry':[c for c in df_company_lsit_all.industry.unique() if not pd.isnull(c)]})\n",
    "df_industry['label']='INDUSTRY'\n",
    "df_industry.head()"
   ]
  },
  {
   "cell_type": "markdown",
   "metadata": {},
   "source": [
    "#### 2.1.2.2 抽取行业实体的数据，并创建头文件"
   ]
  },
  {
   "cell_type": "code",
   "execution_count": 52,
   "metadata": {},
   "outputs": [],
   "source": [
    "# 定义用于抽取行业实体所对应的相关信息的字典\n",
    "all_dicts['node_industries'] = {'industry':'industry:ID(industry)',\n",
    "                                'label':':LABEL'\n",
    "                               }"
   ]
  },
  {
   "cell_type": "code",
   "execution_count": 53,
   "metadata": {},
   "outputs": [
    {
     "name": "stdout",
     "output_type": "stream",
     "text": [
      "save header {}..\n",
      "save_data ...\n",
      " ./data/output/node_industries.csv\n",
      "(81, 2)\n"
     ]
    }
   ],
   "source": [
    "types = 'node_industries'\n",
    "temp = generate_input_files(df_industry,dicts=all_dicts[types],types = types,output_path = output_path)"
   ]
  },
  {
   "cell_type": "markdown",
   "metadata": {},
   "source": [
    "### 2.1.3 省份"
   ]
  },
  {
   "cell_type": "code",
   "execution_count": 54,
   "metadata": {},
   "outputs": [],
   "source": [
    "df_company_detail['symbol'] = df_company_detail['ts_code'].apply(lambda x:x.split('.')[0])"
   ]
  },
  {
   "cell_type": "markdown",
   "metadata": {},
   "source": [
    "#### 2.1.3.1 为省份建立实体标签"
   ]
  },
  {
   "cell_type": "code",
   "execution_count": 55,
   "metadata": {},
   "outputs": [],
   "source": [
    "node_province1 = pd.DataFrame({'province':[c for c in df_company_detail.province.unique() if not pd.isnull(c)]})\n",
    "node_province2 = pd.DataFrame({'province':[c for c in df_fund_company.province.unique() if not pd.isnull(c)]})\n",
    "node_province = pd.concat([node_province1,node_province2]).drop_duplicates()\n",
    "node_province['label']='PROVINCE'"
   ]
  },
  {
   "cell_type": "markdown",
   "metadata": {},
   "source": [
    "#### 2.1.3.2 抽取行业实体的数据，并创建头文件"
   ]
  },
  {
   "cell_type": "code",
   "execution_count": 56,
   "metadata": {},
   "outputs": [],
   "source": [
    "# 定义用于抽取省份实体所对应的相关信息的字典\n",
    "all_dicts['node_province'] = {'province':'province:ID(province)',\n",
    "                                'label':':LABEL'\n",
    "                               }"
   ]
  },
  {
   "cell_type": "code",
   "execution_count": 57,
   "metadata": {},
   "outputs": [
    {
     "name": "stdout",
     "output_type": "stream",
     "text": [
      "save header {}..\n",
      "save_data ...\n",
      " ./data/output/node_province.csv\n",
      "(32, 2)\n"
     ]
    }
   ],
   "source": [
    "types = 'node_province'\n",
    "temp = generate_input_files(node_province,dicts=all_dicts[types],types = types, output_path = output_path)"
   ]
  },
  {
   "cell_type": "markdown",
   "metadata": {},
   "source": [
    "### 2.1.4 城市"
   ]
  },
  {
   "cell_type": "markdown",
   "metadata": {},
   "source": [
    "#### 2.1.4.1 为城市建立实体标签\n",
    "**<font color = red>问题十三：请你观察下面代码块的输出，创建我们所需要的node_city数据框，建议你从df_company_detail和df_fund_company两个数据库中获取城市的相关信息。请你并补充下面的代码块：</font>**"
   ]
  },
  {
   "cell_type": "code",
   "execution_count": 127,
   "metadata": {},
   "outputs": [
    {
     "data": {
      "text/html": [
       "<div>\n",
       "<style scoped>\n",
       "    .dataframe tbody tr th:only-of-type {\n",
       "        vertical-align: middle;\n",
       "    }\n",
       "\n",
       "    .dataframe tbody tr th {\n",
       "        vertical-align: top;\n",
       "    }\n",
       "\n",
       "    .dataframe thead th {\n",
       "        text-align: right;\n",
       "    }\n",
       "</style>\n",
       "<table border=\"1\" class=\"dataframe\">\n",
       "  <thead>\n",
       "    <tr style=\"text-align: right;\">\n",
       "      <th></th>\n",
       "      <th>city</th>\n",
       "      <th>label</th>\n",
       "    </tr>\n",
       "  </thead>\n",
       "  <tbody>\n",
       "    <tr>\n",
       "      <th>0</th>\n",
       "      <td>徐州市</td>\n",
       "      <td>CITY</td>\n",
       "    </tr>\n",
       "    <tr>\n",
       "      <th>1</th>\n",
       "      <td>苏州市</td>\n",
       "      <td>CITY</td>\n",
       "    </tr>\n",
       "    <tr>\n",
       "      <th>2</th>\n",
       "      <td>潮州市</td>\n",
       "      <td>CITY</td>\n",
       "    </tr>\n",
       "    <tr>\n",
       "      <th>3</th>\n",
       "      <td>北京市</td>\n",
       "      <td>CITY</td>\n",
       "    </tr>\n",
       "    <tr>\n",
       "      <th>4</th>\n",
       "      <td>温州市</td>\n",
       "      <td>CITY</td>\n",
       "    </tr>\n",
       "    <tr>\n",
       "      <th>...</th>\n",
       "      <td>...</td>\n",
       "      <td>...</td>\n",
       "    </tr>\n",
       "    <tr>\n",
       "      <th>260</th>\n",
       "      <td>黑河市</td>\n",
       "      <td>CITY</td>\n",
       "    </tr>\n",
       "    <tr>\n",
       "      <th>262</th>\n",
       "      <td>蛟河市</td>\n",
       "      <td>CITY</td>\n",
       "    </tr>\n",
       "    <tr>\n",
       "      <th>263</th>\n",
       "      <td>兴宁市</td>\n",
       "      <td>CITY</td>\n",
       "    </tr>\n",
       "    <tr>\n",
       "      <th>267</th>\n",
       "      <td>巴彦淖尔市</td>\n",
       "      <td>CITY</td>\n",
       "    </tr>\n",
       "    <tr>\n",
       "      <th>268</th>\n",
       "      <td>海阳市</td>\n",
       "      <td>CITY</td>\n",
       "    </tr>\n",
       "  </tbody>\n",
       "</table>\n",
       "<p>342 rows × 2 columns</p>\n",
       "</div>"
      ],
      "text/plain": [
       "      city label\n",
       "0      徐州市  CITY\n",
       "1      苏州市  CITY\n",
       "2      潮州市  CITY\n",
       "3      北京市  CITY\n",
       "4      温州市  CITY\n",
       "..     ...   ...\n",
       "260    黑河市  CITY\n",
       "262    蛟河市  CITY\n",
       "263    兴宁市  CITY\n",
       "267  巴彦淖尔市  CITY\n",
       "268    海阳市  CITY\n",
       "\n",
       "[342 rows x 2 columns]"
      ]
     },
     "execution_count": 127,
     "metadata": {},
     "output_type": "execute_result"
    }
   ],
   "source": [
    "node_city1 = pd.DataFrame({'city':[c for c in df_company_detail.city.unique() if not pd.isnull(c)]})\n",
    "node_city2 = pd.DataFrame({'city':[c for c in df_fund_company.city.unique() if not pd.isnull(c)]})\n",
    "node_city = pd.concat([node_city1,node_city2]).drop_duplicates()\n",
    "\n",
    "node_city['label']='CITY'\n",
    "node_city"
   ]
  },
  {
   "cell_type": "markdown",
   "metadata": {},
   "source": [
    "#### 2.1.3.2 抽取城市实体的数据，并创建头文件"
   ]
  },
  {
   "cell_type": "code",
   "execution_count": 59,
   "metadata": {},
   "outputs": [],
   "source": [
    "# 定义用于抽取城市实体所对应的相关信息的字典\n",
    "all_dicts['node_city'] = {'city':'city:ID(city)',  \n",
    "                          'label':':LABEL'\n",
    "                          }"
   ]
  },
  {
   "cell_type": "code",
   "execution_count": 60,
   "metadata": {},
   "outputs": [
    {
     "name": "stdout",
     "output_type": "stream",
     "text": [
      "save header {}..\n",
      "save_data ...\n",
      " ./data/output/node_city.csv\n",
      "(342, 2)\n"
     ]
    }
   ],
   "source": [
    "types = 'node_city'\n",
    "temp = generate_input_files(node_city,dicts=all_dicts[types],types = types,output_path = output_path)"
   ]
  },
  {
   "cell_type": "markdown",
   "metadata": {},
   "source": [
    "### 2.1.5 人（上市公司董事高管）\n",
    "对于公司高管，因为缺少人的唯一身份id，为了避免同名的影响，采用姓名+性别+生日进行hash生成唯一标识。"
   ]
  },
  {
   "cell_type": "code",
   "execution_count": 61,
   "metadata": {},
   "outputs": [],
   "source": [
    "import hashlib"
   ]
  },
  {
   "cell_type": "code",
   "execution_count": 62,
   "metadata": {},
   "outputs": [],
   "source": [
    "def get_md5(string):\n",
    "    \"\"\"Get md5 according to the string\n",
    "    \"\"\"\n",
    "    byte_string = string.encode(\"utf-8\")\n",
    "    md5 = hashlib.md5()\n",
    "    md5.update(byte_string)\n",
    "    result = md5.hexdigest()\n",
    "    return result"
   ]
  },
  {
   "cell_type": "code",
   "execution_count": 63,
   "metadata": {},
   "outputs": [],
   "source": [
    "df_stk_managers['birthday'] = df_stk_managers['birthday'].apply(lambda x: -1 if pd.isnull(x) else int(x))\n",
    "df_stk_managers['gender'] = df_stk_managers['gender'].apply(lambda x: -1 if x not in ['F','M'] else x)\n",
    "df_stk_managers['hash_cust'] = df_stk_managers.apply(lambda x:get_md5('{}-{}-{}'.format(x['name'],x['gender'],x['birthday'])),axis=1 )"
   ]
  },
  {
   "cell_type": "markdown",
   "metadata": {},
   "source": [
    "#### 2.1.5.1 为人建立实体标签"
   ]
  },
  {
   "cell_type": "code",
   "execution_count": 64,
   "metadata": {},
   "outputs": [],
   "source": [
    "types = 'node_managers'\n",
    "\n",
    "df_stk_managers['label'] = 'MANAGER'"
   ]
  },
  {
   "cell_type": "markdown",
   "metadata": {},
   "source": [
    "#### 2.1.5.2 抽取人实体的数据，并创建头文件"
   ]
  },
  {
   "cell_type": "code",
   "execution_count": 65,
   "metadata": {},
   "outputs": [],
   "source": [
    "# 定义用于抽取 人 实体所对应的相关信息的字典\n",
    "all_dicts['node_managers'] = {'hash_cust':'manager_id:ID(manager_id)', \n",
    "                              'name':'name', \n",
    "                              'gender':'gender',\n",
    "                              'edu':'edu',\n",
    "                              'national':'national',\n",
    "                              'birthday':'birthday:long',\n",
    "                              'begin_date':'begin_date',\n",
    "                              'end_date':'end_date',\n",
    "                              'label':':LABEL'\n",
    "                          }"
   ]
  },
  {
   "cell_type": "code",
   "execution_count": 66,
   "metadata": {},
   "outputs": [
    {
     "name": "stdout",
     "output_type": "stream",
     "text": [
      "save header {}..\n",
      "save_data ...\n",
      " ./data/output/node_managers.csv\n",
      "(163570, 9)\n"
     ]
    }
   ],
   "source": [
    "node_managers = df_stk_managers[list(all_dicts[types].keys())]\n",
    "node_managers = node_managers.sort_values(['name','gender','edu','national']).drop_duplicates('hash_cust',keep='first')\n",
    "\n",
    "temp = generate_input_files(node_managers,dicts=all_dicts[types],types = types, output_path = output_path)"
   ]
  },
  {
   "cell_type": "markdown",
   "metadata": {},
   "source": [
    "### 2.1.5 基金"
   ]
  },
  {
   "cell_type": "markdown",
   "metadata": {},
   "source": [
    "#### 2.1.5.1 数据预处理\n",
    "* 对每个基金进行市场划分"
   ]
  },
  {
   "cell_type": "code",
   "execution_count": 67,
   "metadata": {},
   "outputs": [],
   "source": [
    "df_fund_basic['fund'] = df_fund_basic['ts_code'].apply(lambda x: x.split('.')[0])\n",
    "df_fund_basic['market'] = df_fund_basic['ts_code'].apply(lambda x: x.split('.')[1])"
   ]
  },
  {
   "cell_type": "markdown",
   "metadata": {},
   "source": [
    "* 处理时间,我们将时间属性放于节点上"
   ]
  },
  {
   "cell_type": "code",
   "execution_count": 68,
   "metadata": {},
   "outputs": [],
   "source": [
    "df_fund_basic['found_date'] = df_fund_basic['found_date'].apply(lambda x: -1 if pd.isnull(x) else int(x) )\n",
    "df_fund_basic['due_date'] = df_fund_basic['due_date'].apply(lambda x: -1 if pd.isnull(x) else int(x) )\n",
    "df_fund_basic['list_date'] = df_fund_basic['list_date'].apply(lambda x: -1 if pd.isnull(x) else int(x) )\n",
    "df_fund_basic['issue_date'] = df_fund_basic['issue_date'].apply(lambda x: -1 if pd.isnull(x) else int(x) )\n",
    "df_fund_basic['delist_date'] = df_fund_basic['delist_date'].apply(lambda x: -1 if pd.isnull(x) else int(x) )"
   ]
  },
  {
   "cell_type": "markdown",
   "metadata": {},
   "source": [
    "* 转化数据类型"
   ]
  },
  {
   "cell_type": "code",
   "execution_count": 69,
   "metadata": {},
   "outputs": [],
   "source": [
    "df_fund_basic['issue_amount'] = df_fund_basic['issue_amount'].apply(lambda x:float(x))\n",
    "df_fund_basic['m_fee'] = df_fund_basic['m_fee'].apply(lambda x:float(x))\n",
    "df_fund_basic['c_fee'] = df_fund_basic['c_fee'].apply(lambda x:float(x))\n",
    "df_fund_basic['min_amount'] = df_fund_basic['min_amount'].apply(lambda x:float(x))\n",
    "df_fund_basic['duration_year'] = df_fund_basic['duration_year'].apply(lambda x:float(x))"
   ]
  },
  {
   "cell_type": "markdown",
   "metadata": {},
   "source": [
    "#### 2.1.5.2 为基金建立实体标签"
   ]
  },
  {
   "cell_type": "code",
   "execution_count": 70,
   "metadata": {},
   "outputs": [],
   "source": [
    "types = 'node_funds'\n",
    "\n",
    "df_fund_basic['label'] = 'FUND'"
   ]
  },
  {
   "cell_type": "markdown",
   "metadata": {},
   "source": [
    "#### 2.1.5.3 抽取基金实体的数据，并创建头文件"
   ]
  },
  {
   "cell_type": "code",
   "execution_count": 71,
   "metadata": {},
   "outputs": [],
   "source": [
    "# 定义用于抽取 基金 实体所对应的相关信息的字典\n",
    "all_dicts['node_funds'] =  {'fund':'fund_code:ID(fund_code)', \n",
    "                            'name':'name', \n",
    "                            'fund_type':'fund_type', # 投资类型\n",
    "                            'invest_type':'invest_type', # 投资风格\n",
    "                            'type':'type',  # 基金类型 \n",
    "                            'benchmark':'benchmark', # 业绩比较基准\n",
    "                            'market':'market', #  场外'OF', 场内 'SH', 'SZ'\n",
    "                            'found_date':'found_date:long',  # 成立日期\n",
    "                            'delist_date':'delist_date:long',  # 退市日期\n",
    "                            'status':'status',  #  存续状态: D摘牌 I发行 L已上市\n",
    "                            'label':':LABEL' }"
   ]
  },
  {
   "cell_type": "code",
   "execution_count": 72,
   "metadata": {},
   "outputs": [],
   "source": [
    "node_funds = df_fund_basic[list(all_dicts[types].keys())]\n",
    "\n",
    "node_funds = node_funds.sort_values(['fund','found_date','delist_date'],ascending=False).drop_duplicates('fund',keep='first')"
   ]
  },
  {
   "cell_type": "code",
   "execution_count": 73,
   "metadata": {},
   "outputs": [
    {
     "name": "stdout",
     "output_type": "stream",
     "text": [
      "save header {}..\n",
      "save_data ...\n",
      " ./data/output/node_funds.csv\n",
      "(11187, 11)\n"
     ]
    }
   ],
   "source": [
    "temp = generate_input_files(node_funds,dicts=all_dicts[types],types = types,output_path = output_path)"
   ]
  },
  {
   "cell_type": "markdown",
   "metadata": {},
   "source": [
    "## 2.2 关系"
   ]
  },
  {
   "cell_type": "markdown",
   "metadata": {},
   "source": [
    "### 2.2.1 上市公司→行业"
   ]
  },
  {
   "cell_type": "markdown",
   "metadata": {},
   "source": [
    "#### 2.2.1.1 为关系建立关系标签"
   ]
  },
  {
   "cell_type": "code",
   "execution_count": 74,
   "metadata": {},
   "outputs": [],
   "source": [
    "rel_share_in_industry = df_company_lsit_all[['industry','fullname']]\n",
    "\n",
    "rel_share_in_industry = rel_share_in_industry[rel_share_in_industry['fullname'].notnull()&rel_share_in_industry['industry'].notnull()]\n",
    "rel_share_in_industry['type']='IN_INDUSTRY'"
   ]
  },
  {
   "cell_type": "markdown",
   "metadata": {},
   "source": [
    "#### 2.2.1.2 抽取相关数据，并创建头文件"
   ]
  },
  {
   "cell_type": "code",
   "execution_count": 75,
   "metadata": {},
   "outputs": [],
   "source": [
    "# 定义用于抽取上市公司→行业关系所对应的相关信息的字典\n",
    "all_dicts['rel_share_in_industry'] = {'fullname':':START_ID(company)', # 股票代码\n",
    "                                      'industry':':END_ID(industry)', # 所属行业\n",
    "                                      'type':':TYPE'\n",
    "                                      }"
   ]
  },
  {
   "cell_type": "code",
   "execution_count": 76,
   "metadata": {},
   "outputs": [
    {
     "name": "stdout",
     "output_type": "stream",
     "text": [
      "save header {}..\n",
      "save_data ...\n",
      " ./data/output/rel_share_in_industry.csv\n",
      "(4062, 3)\n"
     ]
    }
   ],
   "source": [
    "types = 'rel_share_in_industry'\n",
    "temp = generate_input_files(rel_share_in_industry,dicts=all_dicts[types],types = types, output_path = output_path)"
   ]
  },
  {
   "cell_type": "markdown",
   "metadata": {},
   "source": [
    "### 2.2.2 上市公司→城市\n",
    "#### 2.2.2.1 为关系建立关系标签"
   ]
  },
  {
   "cell_type": "code",
   "execution_count": 77,
   "metadata": {},
   "outputs": [],
   "source": [
    "rel_company_in_city1 = pd.merge(df_company_detail,df_company_lsit_all[['symbol','fullname']],on='symbol',how='left')[['fullname','city']]\n",
    "rel_company_in_city2 = df_fund_company[['fullname','city']]\n",
    "# 合并数据\n",
    "rel_company_in_city = pd.concat([rel_company_in_city1,rel_company_in_city2]).drop_duplicates()\n",
    "\n",
    "rel_company_in_city['type']='IN_CITY'"
   ]
  },
  {
   "cell_type": "markdown",
   "metadata": {},
   "source": [
    "#### 2.2.2.2 抽取相关数据，并创建头文件"
   ]
  },
  {
   "cell_type": "code",
   "execution_count": 78,
   "metadata": {},
   "outputs": [],
   "source": [
    "# 定义用于抽取上市公司→城市关系所对应的相关信息的字典\n",
    "all_dicts['rel_company_in_city'] = {'fullname':':START_ID(company)', # 股票代码\n",
    "                                  'city':':END_ID(city)', # 所属城市\n",
    "                                  'type':':TYPE'\n",
    "                                  }"
   ]
  },
  {
   "cell_type": "code",
   "execution_count": 79,
   "metadata": {},
   "outputs": [],
   "source": [
    "rel_company_in_city = rel_company_in_city[rel_company_in_city['city'].notnull()&rel_company_in_city['fullname'].notnull()]"
   ]
  },
  {
   "cell_type": "code",
   "execution_count": 80,
   "metadata": {},
   "outputs": [
    {
     "name": "stdout",
     "output_type": "stream",
     "text": [
      "save header {}..\n",
      "save_data ...\n",
      " ./data/output/rel_company_in_city.csv\n",
      "(19251, 3)\n"
     ]
    }
   ],
   "source": [
    "types = 'rel_company_in_city'\n",
    "temp = generate_input_files(rel_company_in_city,dicts=all_dicts[types],types = types,output_path = output_path)"
   ]
  },
  {
   "cell_type": "markdown",
   "metadata": {},
   "source": [
    "### 2.2.3 城市 → 省份\n",
    "#### 2.2.3.1 为关系建立关系标签\n",
    "**<font color = red>问题十四：相信看了前面两个关系的构建，你已经比较了解如何创建关系文件。在这里请你观察下面代码块的输出结果，并且基于df_company_detail和df_fund_company里面的城市、省份信息，构建一个合适的rel_city_in_province。请你并补充下面的代码块：</font>**"
   ]
  },
  {
   "cell_type": "code",
   "execution_count": 128,
   "metadata": {},
   "outputs": [
    {
     "data": {
      "text/html": [
       "<div>\n",
       "<style scoped>\n",
       "    .dataframe tbody tr th:only-of-type {\n",
       "        vertical-align: middle;\n",
       "    }\n",
       "\n",
       "    .dataframe tbody tr th {\n",
       "        vertical-align: top;\n",
       "    }\n",
       "\n",
       "    .dataframe thead th {\n",
       "        text-align: right;\n",
       "    }\n",
       "</style>\n",
       "<table border=\"1\" class=\"dataframe\">\n",
       "  <thead>\n",
       "    <tr style=\"text-align: right;\">\n",
       "      <th></th>\n",
       "      <th>province</th>\n",
       "      <th>city</th>\n",
       "      <th>type</th>\n",
       "    </tr>\n",
       "  </thead>\n",
       "  <tbody>\n",
       "    <tr>\n",
       "      <th>0</th>\n",
       "      <td>江苏</td>\n",
       "      <td>徐州市</td>\n",
       "      <td>IN_PROVINCE</td>\n",
       "    </tr>\n",
       "    <tr>\n",
       "      <th>1</th>\n",
       "      <td>江苏</td>\n",
       "      <td>苏州市</td>\n",
       "      <td>IN_PROVINCE</td>\n",
       "    </tr>\n",
       "    <tr>\n",
       "      <th>2</th>\n",
       "      <td>广东</td>\n",
       "      <td>潮州市</td>\n",
       "      <td>IN_PROVINCE</td>\n",
       "    </tr>\n",
       "    <tr>\n",
       "      <th>3</th>\n",
       "      <td>北京</td>\n",
       "      <td>北京市</td>\n",
       "      <td>IN_PROVINCE</td>\n",
       "    </tr>\n",
       "    <tr>\n",
       "      <th>4</th>\n",
       "      <td>浙江</td>\n",
       "      <td>温州市</td>\n",
       "      <td>IN_PROVINCE</td>\n",
       "    </tr>\n",
       "    <tr>\n",
       "      <th>...</th>\n",
       "      <td>...</td>\n",
       "      <td>...</td>\n",
       "      <td>...</td>\n",
       "    </tr>\n",
       "    <tr>\n",
       "      <th>24325</th>\n",
       "      <td>黑龙江</td>\n",
       "      <td>黑河市</td>\n",
       "      <td>IN_PROVINCE</td>\n",
       "    </tr>\n",
       "    <tr>\n",
       "      <th>24448</th>\n",
       "      <td>吉林</td>\n",
       "      <td>蛟河市</td>\n",
       "      <td>IN_PROVINCE</td>\n",
       "    </tr>\n",
       "    <tr>\n",
       "      <th>24477</th>\n",
       "      <td>广东</td>\n",
       "      <td>兴宁市</td>\n",
       "      <td>IN_PROVINCE</td>\n",
       "    </tr>\n",
       "    <tr>\n",
       "      <th>25023</th>\n",
       "      <td>内蒙古</td>\n",
       "      <td>巴彦淖尔市</td>\n",
       "      <td>IN_PROVINCE</td>\n",
       "    </tr>\n",
       "    <tr>\n",
       "      <th>25736</th>\n",
       "      <td>山东</td>\n",
       "      <td>海阳市</td>\n",
       "      <td>IN_PROVINCE</td>\n",
       "    </tr>\n",
       "  </tbody>\n",
       "</table>\n",
       "<p>342 rows × 3 columns</p>\n",
       "</div>"
      ],
      "text/plain": [
       "      province   city         type\n",
       "0           江苏    徐州市  IN_PROVINCE\n",
       "1           江苏    苏州市  IN_PROVINCE\n",
       "2           广东    潮州市  IN_PROVINCE\n",
       "3           北京    北京市  IN_PROVINCE\n",
       "4           浙江    温州市  IN_PROVINCE\n",
       "...        ...    ...          ...\n",
       "24325      黑龙江    黑河市  IN_PROVINCE\n",
       "24448       吉林    蛟河市  IN_PROVINCE\n",
       "24477       广东    兴宁市  IN_PROVINCE\n",
       "25023      内蒙古  巴彦淖尔市  IN_PROVINCE\n",
       "25736       山东    海阳市  IN_PROVINCE\n",
       "\n",
       "[342 rows x 3 columns]"
      ]
     },
     "execution_count": 128,
     "metadata": {},
     "output_type": "execute_result"
    }
   ],
   "source": [
    "rel_city_in_province1= df_company_detail[['province','city']]\n",
    "rel_city_in_province2= df_fund_company[['province','city']]\n",
    "rel_city_in_province = pd.concat([rel_city_in_province1,rel_city_in_province2]).drop_duplicates()\n",
    "\n",
    "rel_city_in_province = rel_city_in_province[rel_city_in_province['province'].notnull()&rel_city_in_province['city'].notnull()]\n",
    "rel_city_in_province['type']='IN_PROVINCE'\n",
    "rel_city_in_province"
   ]
  },
  {
   "cell_type": "markdown",
   "metadata": {},
   "source": [
    "#### 2.2.3.2 抽取相关数据，并创建头文件"
   ]
  },
  {
   "cell_type": "code",
   "execution_count": 82,
   "metadata": {},
   "outputs": [
    {
     "name": "stdout",
     "output_type": "stream",
     "text": [
      "save header {}..\n",
      "save_data ...\n",
      " ./data/output/rel_city_in_province.csv\n",
      "(342, 3)\n"
     ]
    }
   ],
   "source": [
    "# 定义用于抽取城市→省份关系所对应的相关信息的字典\n",
    "all_dicts['rel_city_in_province'] = {'city':':START_ID(city)', \n",
    "                                  'province':':END_ID(province)', \n",
    "                                  'type':':TYPE'\n",
    "                                  }\n",
    "types = 'rel_city_in_province'\n",
    "\n",
    "temp = generate_input_files(rel_city_in_province,dicts=all_dicts[types],types = types,output_path = output_path)"
   ]
  },
  {
   "cell_type": "markdown",
   "metadata": {},
   "source": [
    "### 2.2.4 上市公司 → 人(董事高管)"
   ]
  },
  {
   "cell_type": "markdown",
   "metadata": {},
   "source": [
    "#### 2.2.4.1 定义关系标签，处理数据\n",
    "基于数据，我们可以将高管关系分为以下六类，直接使用type作为标签：\n",
    "- 董事会成员\n",
    "- 监事\n",
    "- 委员会成员\n",
    "- 高管\n",
    "- 核心技术人员\n",
    "- 其他"
   ]
  },
  {
   "cell_type": "code",
   "execution_count": 83,
   "metadata": {},
   "outputs": [],
   "source": [
    "# 处理证券代码\n",
    "df_stk_managers['symbol'] = df_stk_managers['ts_code'].apply(lambda x:x.split('.')[0])\n",
    "# 处理时间数据\n",
    "df_stk_managers['begin_date'] = df_stk_managers['begin_date'].apply(lambda x: -1 if pd.isnull(x) else int(x) )\n",
    "df_stk_managers['end_date'] = df_stk_managers['end_date'].apply(lambda x: -1 if pd.isnull(x) else int(x))\n",
    "df_stk_managers['ann_date'] = df_stk_managers['ann_date'].apply(lambda x: -1 if pd.isnull(x) else int(x))"
   ]
  },
  {
   "cell_type": "code",
   "execution_count": 84,
   "metadata": {},
   "outputs": [],
   "source": [
    "rel_listed_company_has_manager = pd.merge(df_stk_managers,df_company_lsit_all[['symbol','fullname']],on='symbol',how='left')"
   ]
  },
  {
   "cell_type": "code",
   "execution_count": 85,
   "metadata": {},
   "outputs": [],
   "source": [
    "types = 'rel_listed_company_has_manager'\n",
    "\n",
    "rel_listed_company_has_manager = rel_listed_company_has_manager[rel_listed_company_has_manager['fullname'].notnull()&rel_listed_company_has_manager['hash_cust'].notnull()]"
   ]
  },
  {
   "cell_type": "code",
   "execution_count": 86,
   "metadata": {},
   "outputs": [],
   "source": [
    "rel_listed_company_has_manager = rel_listed_company_has_manager.sort_values(['fullname','hash_cust','title','begin_date','end_date'],ascending=False).drop_duplicates(['fullname','hash_cust','title','begin_date'],keep='first')"
   ]
  },
  {
   "cell_type": "markdown",
   "metadata": {},
   "source": [
    "#### 2.2.4.2 抽取相关数据，并创建头文件\n",
    "**<font color = red>问题十五：请你观察比较前面关系构建中的字典，思考在下面代码块应该补充什么。如果你没有思路的话，可以看2.2.4.1节下面的那句话，可能会有所启发。最后，请你并补充下面的代码块：</font>**"
   ]
  },
  {
   "cell_type": "code",
   "execution_count": 87,
   "metadata": {},
   "outputs": [],
   "source": [
    "# 定义用于抽取上市公司→人关系所对应的相关信息的字典\n",
    "all_dicts['rel_listed_company_has_manager'] = {'fullname':':START_ID(company)', \n",
    "                                              'hash_cust':':END_ID(manager_id)', \n",
    "                                              'begin_date':'begin_date:long',\n",
    "                                              'end_date':'end_date:long',\n",
    "                                              'title':'title',\n",
    "                                              'lev':':TYPE'#补充该部分：使用type做标签\n",
    "                                              }"
   ]
  },
  {
   "cell_type": "code",
   "execution_count": 88,
   "metadata": {},
   "outputs": [
    {
     "name": "stdout",
     "output_type": "stream",
     "text": [
      "save header {}..\n",
      "save_data ...\n",
      " ./data/output/rel_listed_company_has_manager.csv\n",
      "(428985, 6)\n"
     ]
    }
   ],
   "source": [
    "temp0 = generate_input_files(rel_listed_company_has_manager,dicts=all_dicts[types],types = types,output_path=output_path)"
   ]
  },
  {
   "cell_type": "markdown",
   "metadata": {},
   "source": [
    "### 2.2.5 基金 → 托管人\n",
    "#### 2.2.5.1 处理数据，为关系建立关系标签"
   ]
  },
  {
   "cell_type": "code",
   "execution_count": 89,
   "metadata": {},
   "outputs": [],
   "source": [
    "# 合并相关数据\n",
    "temp = node_companies[['name','fullname']].rename(columns = {'name':'custodian'})\n",
    "rel_fund_has_custodian = pd.merge(df_fund_basic,temp, on='custodian',how='left')[['fund','fullname']]"
   ]
  },
  {
   "cell_type": "code",
   "execution_count": 90,
   "metadata": {},
   "outputs": [],
   "source": [
    "rel_fund_has_custodian['type']='HAS_CUSTODIAN'"
   ]
  },
  {
   "cell_type": "markdown",
   "metadata": {},
   "source": [
    "#### 2.2.5.2 抽取相关数据，并创建头文件"
   ]
  },
  {
   "cell_type": "code",
   "execution_count": 91,
   "metadata": {},
   "outputs": [],
   "source": [
    "# 定义用于抽取基金→托管人关系所对应的相关信息的字典\n",
    "all_dicts['rel_fund_has_custodian'] = {'fund':':START_ID(fund_code)',   # 基金代码\n",
    "                                      'fullname':':END_ID(company)',   # 托管人\n",
    "                                      'type':':TYPE'\n",
    "                                     }"
   ]
  },
  {
   "cell_type": "code",
   "execution_count": 92,
   "metadata": {},
   "outputs": [
    {
     "name": "stdout",
     "output_type": "stream",
     "text": [
      "save header {}..\n",
      "save_data ...\n",
      " ./data/output/rel_fund_has_custodian.csv\n",
      "(11253, 3)\n"
     ]
    }
   ],
   "source": [
    "types = 'rel_fund_has_custodian'\n",
    "\n",
    "temp = generate_input_files(rel_fund_has_custodian,dicts=all_dicts[types],types = types,output_path = output_path)"
   ]
  },
  {
   "cell_type": "code",
   "execution_count": 93,
   "metadata": {},
   "outputs": [
    {
     "data": {
      "text/html": [
       "<div>\n",
       "<style scoped>\n",
       "    .dataframe tbody tr th:only-of-type {\n",
       "        vertical-align: middle;\n",
       "    }\n",
       "\n",
       "    .dataframe tbody tr th {\n",
       "        vertical-align: top;\n",
       "    }\n",
       "\n",
       "    .dataframe thead th {\n",
       "        text-align: right;\n",
       "    }\n",
       "</style>\n",
       "<table border=\"1\" class=\"dataframe\">\n",
       "  <thead>\n",
       "    <tr style=\"text-align: right;\">\n",
       "      <th></th>\n",
       "      <th>0</th>\n",
       "      <th>1</th>\n",
       "      <th>2</th>\n",
       "      <th>3</th>\n",
       "      <th>4</th>\n",
       "    </tr>\n",
       "  </thead>\n",
       "  <tbody>\n",
       "    <tr>\n",
       "      <th>fund</th>\n",
       "      <td>159821</td>\n",
       "      <td>159822</td>\n",
       "      <td>588080</td>\n",
       "      <td>588090</td>\n",
       "      <td>511000</td>\n",
       "    </tr>\n",
       "    <tr>\n",
       "      <th>fullname</th>\n",
       "      <td>中国工商银行股份有限公司</td>\n",
       "      <td>中国工商银行股份有限公司</td>\n",
       "      <td>中国工商银行股份有限公司</td>\n",
       "      <td>中国建设银行股份有限公司</td>\n",
       "      <td>浙商银行股份有限公司</td>\n",
       "    </tr>\n",
       "    <tr>\n",
       "      <th>type</th>\n",
       "      <td>HAS_CUSTODIAN</td>\n",
       "      <td>HAS_CUSTODIAN</td>\n",
       "      <td>HAS_CUSTODIAN</td>\n",
       "      <td>HAS_CUSTODIAN</td>\n",
       "      <td>HAS_CUSTODIAN</td>\n",
       "    </tr>\n",
       "  </tbody>\n",
       "</table>\n",
       "</div>"
      ],
      "text/plain": [
       "                      0              1              2              3  \\\n",
       "fund             159821         159822         588080         588090   \n",
       "fullname   中国工商银行股份有限公司   中国工商银行股份有限公司   中国工商银行股份有限公司   中国建设银行股份有限公司   \n",
       "type      HAS_CUSTODIAN  HAS_CUSTODIAN  HAS_CUSTODIAN  HAS_CUSTODIAN   \n",
       "\n",
       "                      4  \n",
       "fund             511000  \n",
       "fullname     浙商银行股份有限公司  \n",
       "type      HAS_CUSTODIAN  "
      ]
     },
     "execution_count": 93,
     "metadata": {},
     "output_type": "execute_result"
    }
   ],
   "source": [
    "rel_fund_has_custodian.head().T"
   ]
  },
  {
   "cell_type": "markdown",
   "metadata": {},
   "source": [
    "### 2.2.6 基金 → 管理人\n",
    "#### 2.2.6.1 处理数据，为关系建立关系标签"
   ]
  },
  {
   "cell_type": "code",
   "execution_count": 94,
   "metadata": {},
   "outputs": [],
   "source": [
    "# 合并相关数据\n",
    "temp = node_companies[['name','fullname']].rename(columns = {'name':'management'})\n",
    "rel_fund_has_management = pd.merge(df_fund_basic,temp, on='management',how='left')[['fund','fullname']]"
   ]
  },
  {
   "cell_type": "code",
   "execution_count": 95,
   "metadata": {},
   "outputs": [],
   "source": [
    "rel_fund_has_management['type']='HAS_MANAGEMENT'"
   ]
  },
  {
   "cell_type": "markdown",
   "metadata": {},
   "source": [
    "#### 2.2.6.2 抽取相关数据，并创建头文件"
   ]
  },
  {
   "cell_type": "code",
   "execution_count": 96,
   "metadata": {},
   "outputs": [],
   "source": [
    "# 定义用于抽取基金→管理人关系所对应的相关信息的字典\n",
    "all_dicts['rel_fund_has_management'] = {'fund':':START_ID(fund_code)',   # TS基金代码\n",
    "                                      'fullname':':END_ID(company)',   # 股票代码\n",
    "                                      'type':':TYPE'\n",
    "                                     }"
   ]
  },
  {
   "cell_type": "code",
   "execution_count": 97,
   "metadata": {},
   "outputs": [
    {
     "name": "stdout",
     "output_type": "stream",
     "text": [
      "save header {}..\n",
      "save_data ...\n",
      " ./data/output/rel_fund_has_management.csv\n",
      "(11270, 3)\n"
     ]
    }
   ],
   "source": [
    "types = 'rel_fund_has_management'\n",
    "\n",
    "temp = generate_input_files(rel_fund_has_management,dicts=all_dicts[types],types = types,output_path = output_path)"
   ]
  },
  {
   "cell_type": "code",
   "execution_count": 98,
   "metadata": {},
   "outputs": [
    {
     "data": {
      "text/html": [
       "<div>\n",
       "<style scoped>\n",
       "    .dataframe tbody tr th:only-of-type {\n",
       "        vertical-align: middle;\n",
       "    }\n",
       "\n",
       "    .dataframe tbody tr th {\n",
       "        vertical-align: top;\n",
       "    }\n",
       "\n",
       "    .dataframe thead th {\n",
       "        text-align: right;\n",
       "    }\n",
       "</style>\n",
       "<table border=\"1\" class=\"dataframe\">\n",
       "  <thead>\n",
       "    <tr style=\"text-align: right;\">\n",
       "      <th></th>\n",
       "      <th>0</th>\n",
       "      <th>1</th>\n",
       "      <th>2</th>\n",
       "      <th>3</th>\n",
       "      <th>4</th>\n",
       "    </tr>\n",
       "  </thead>\n",
       "  <tbody>\n",
       "    <tr>\n",
       "      <th>fund</th>\n",
       "      <td>159821</td>\n",
       "      <td>159822</td>\n",
       "      <td>588080</td>\n",
       "      <td>588090</td>\n",
       "      <td>511000</td>\n",
       "    </tr>\n",
       "    <tr>\n",
       "      <th>fullname</th>\n",
       "      <td>中银国际证券股份有限公司</td>\n",
       "      <td>银华基金管理股份有限公司</td>\n",
       "      <td>易方达基金管理有限公司</td>\n",
       "      <td>华泰柏瑞基金管理有限公司</td>\n",
       "      <td>招商基金管理有限公司</td>\n",
       "    </tr>\n",
       "    <tr>\n",
       "      <th>type</th>\n",
       "      <td>HAS_MANAGEMENT</td>\n",
       "      <td>HAS_MANAGEMENT</td>\n",
       "      <td>HAS_MANAGEMENT</td>\n",
       "      <td>HAS_MANAGEMENT</td>\n",
       "      <td>HAS_MANAGEMENT</td>\n",
       "    </tr>\n",
       "  </tbody>\n",
       "</table>\n",
       "</div>"
      ],
      "text/plain": [
       "                       0               1               2               3  \\\n",
       "fund              159821          159822          588080          588090   \n",
       "fullname    中银国际证券股份有限公司    银华基金管理股份有限公司     易方达基金管理有限公司    华泰柏瑞基金管理有限公司   \n",
       "type      HAS_MANAGEMENT  HAS_MANAGEMENT  HAS_MANAGEMENT  HAS_MANAGEMENT   \n",
       "\n",
       "                       4  \n",
       "fund              511000  \n",
       "fullname      招商基金管理有限公司  \n",
       "type      HAS_MANAGEMENT  "
      ]
     },
     "execution_count": 98,
     "metadata": {},
     "output_type": "execute_result"
    }
   ],
   "source": [
    "rel_fund_has_management.head().T"
   ]
  },
  {
   "cell_type": "markdown",
   "metadata": {},
   "source": [
    "### 2.2.7 基金 → 上市公司（基金持仓）\n",
    "#### 2.2.7.1 处理数据，为关系建立关系标签"
   ]
  },
  {
   "cell_type": "code",
   "execution_count": 99,
   "metadata": {},
   "outputs": [],
   "source": [
    "df_fund_portfolio['fund'] = df_fund_portfolio['ts_code'].apply(lambda x: x.split('.')[0])"
   ]
  },
  {
   "cell_type": "code",
   "execution_count": 100,
   "metadata": {},
   "outputs": [],
   "source": [
    "df_fund_portfolio['symbol'] = df_fund_portfolio['symbol'].apply(lambda x: x.split('.')[0])"
   ]
  },
  {
   "cell_type": "code",
   "execution_count": 101,
   "metadata": {},
   "outputs": [],
   "source": [
    "df_fund_portfolio['ann_date'] = df_fund_portfolio['ann_date'].apply(lambda x: -1 if pd.isnull(x) else int(x) )\n",
    "df_fund_portfolio['end_date'] = df_fund_portfolio['end_date'].apply(lambda x: -1 if pd.isnull(x) else int(x) )"
   ]
  },
  {
   "cell_type": "code",
   "execution_count": 102,
   "metadata": {},
   "outputs": [],
   "source": [
    "# 合并相关数据\n",
    "rel_fund_listed_company_portfolio = pd.merge(df_fund_portfolio,df_company_lsit_all[['symbol','fullname']],on='symbol',how='left')"
   ]
  },
  {
   "cell_type": "code",
   "execution_count": 103,
   "metadata": {},
   "outputs": [],
   "source": [
    "rel_fund_listed_company_portfolio['type']='IN_PORTFOLIO'"
   ]
  },
  {
   "cell_type": "markdown",
   "metadata": {},
   "source": [
    "#### 2.2.7.2 抽取相关数据，并创建头文件"
   ]
  },
  {
   "cell_type": "code",
   "execution_count": 104,
   "metadata": {},
   "outputs": [],
   "source": [
    "# 定义用于抽取基金→上市公司关系所对应的相关信息的字典\n",
    "all_dicts['rel_fund_listed_company_portfolio'] = {'fund':':START_ID(fund_code)',   # TS基金代码\n",
    "                                                  'fullname':':END_ID(company)',   # 股票代码\n",
    "                                                  'ann_date':'ann_date:float',   # 公告日期\n",
    "                                                  'end_date':'end_date:float' ,  # 截止日期\n",
    "                                                  'mkv':'mkv:float' ,  # 持有股票市值(元)\n",
    "                                                  'amount':'amount:float' ,  # 持有股票数量（股）\n",
    "                                                  'stk_mkv_ratio':'stk_mkv_ratio:float',   # 占股票市值比\n",
    "                                                  'stk_float_ratio':'stk_float_ratio:float',   # 占流通股本比例\n",
    "                                                  'type':':TYPE'\n",
    "                                                 }"
   ]
  },
  {
   "cell_type": "code",
   "execution_count": 105,
   "metadata": {},
   "outputs": [],
   "source": [
    "rel_fund_listed_company_portfolio = rel_fund_listed_company_portfolio.sort_values(['fund','fullname','ann_date','end_date'],ascending=False).drop_duplicates(['fund','fullname'],keep='first')"
   ]
  },
  {
   "cell_type": "code",
   "execution_count": 106,
   "metadata": {},
   "outputs": [
    {
     "data": {
      "text/plain": [
       "(1235280, 9)"
      ]
     },
     "execution_count": 106,
     "metadata": {},
     "output_type": "execute_result"
    }
   ],
   "source": [
    "df_fund_portfolio.shape"
   ]
  },
  {
   "cell_type": "code",
   "execution_count": 107,
   "metadata": {},
   "outputs": [
    {
     "name": "stdout",
     "output_type": "stream",
     "text": [
      "save header {}..\n",
      "save_data ...\n",
      " ./data/output/rel_fund_listed_company_portfolio.csv\n",
      "(526357, 9)\n"
     ]
    }
   ],
   "source": [
    "types = 'rel_fund_listed_company_portfolio'\n",
    "\n",
    "temp = generate_input_files(rel_fund_listed_company_portfolio,dicts=all_dicts[types],types = types,output_path = output_path)"
   ]
  },
  {
   "cell_type": "markdown",
   "metadata": {},
   "source": [
    "## 3 Neo4j图数据库安装和知识图谱构建"
   ]
  },
  {
   "cell_type": "markdown",
   "metadata": {},
   "source": [
    "### 3.1 安装程序软件JAVA，Neo4j和插件apoc\n",
    "注意选择合适的JAVA版本进行安装，注意Neo4j和插件apoc的版本需要匹配，以下搭配就是一个互相兼容的例子 (百度网盘链接：https://pan.baidu.com/s/1kjYuEnxtiTE22VLXF-RlYA 提取码：2021)，你也可以从以下三个网页中寻找并下载适合你的电脑的其他版本：   \n",
    "* JAVA    \n",
    "https://adoptopenjdk.net/releases.html?variant=openjdk8&jvmVariant=hotspot    \n",
    "* Neo4j    \n",
    "https://neo4j.com/download-center/#community   \n",
    "* apoc插件    \n",
    "https://github.com/neo4j-contrib/neo4j-apoc-procedures/releases/3.5.0.11\n",
    "\n",
    "### 3.2 添加Java和Neo4j的环境变量\n",
    "### 3.3 在cmd中运行Neo4j\n",
    "> neo4j console\n",
    "\n",
    "### 3.4 根据cmd页面提示，打开Neo4j的web界面\n",
    "一般为：http://localhost:7474/   \n",
    "在Neo4j的web界面进行操作可以得到更好的可视化效果\n",
    "### 3.5 在python中实现Neo4j交互"
   ]
  },
  {
   "cell_type": "code",
   "execution_count": 117,
   "metadata": {},
   "outputs": [],
   "source": [
    "import os\n",
    "from py2neo import Graph\n",
    "import warnings\n",
    "warnings.filterwarnings('ignore')"
   ]
  },
  {
   "cell_type": "code",
   "execution_count": 118,
   "metadata": {},
   "outputs": [],
   "source": [
    "graph = Graph(\n",
    "    \"bolt://localhost:7687\",\n",
    "    usernmae=\"neo4j\",# 输入默认账号和密码，在python登入Neo4j\n",
    "    password=\"neo4j\"\n",
    ")"
   ]
  },
  {
   "cell_type": "markdown",
   "metadata": {},
   "source": [
    "### 3.6 导入相关数据构建知识图谱\n",
    "在cmd命令行中输入以下generate_scripts函数的输出结果，注意此操作必须关闭Neo4j进行。"
   ]
  },
  {
   "cell_type": "code",
   "execution_count": 110,
   "metadata": {},
   "outputs": [],
   "source": [
    "import os\n",
    "file_ls = os.listdir('./data/output')\n",
    "node_ls =  [file for file in file_ls if file.startswith('node')]\n",
    "relationship_ls =  [file for file in file_ls if file.startswith('rel')]"
   ]
  },
  {
   "cell_type": "code",
   "execution_count": 111,
   "metadata": {},
   "outputs": [],
   "source": [
    "def generate_scripts(path,database='graph.db'):\n",
    "    file_ls = os.listdir(path)\n",
    "    node_ls =  [file for file in file_ls if file.startswith('node')]\n",
    "    relationship_ls =  [file for file in file_ls if file.startswith('rel')]\n",
    "\n",
    "    print(\"neo4j-admin import --database={}  \".format(database))\n",
    "    for i in range(int(len(node_ls)/2)):\n",
    "        print(\"--nodes {},{}  \".format(node_ls[2*i],node_ls[2*i+1]))\n",
    "\n",
    "    for i in range(int(len(relationship_ls)/2)):\n",
    "        print(\"--relationships {},{}  \".format(relationship_ls[2*i],relationship_ls[2*i+1]))\n",
    "    \n",
    "    print(\"--ignore-duplicate-nodes=true  \")\n",
    "    print(\"--ignore-missing-nodes=true\")    "
   ]
  },
  {
   "cell_type": "code",
   "execution_count": 112,
   "metadata": {},
   "outputs": [
    {
     "name": "stdout",
     "output_type": "stream",
     "text": [
      "neo4j-admin import --database=finance_graph.db  \n",
      "--nodes node_city-header.csv,node_city.csv  \n",
      "--nodes node_companies-header.csv,node_companies.csv  \n",
      "--nodes node_funds-header.csv,node_funds.csv  \n",
      "--nodes node_industries-header.csv,node_industries.csv  \n",
      "--nodes node_managers-header.csv,node_managers.csv  \n",
      "--nodes node_province-header.csv,node_province.csv  \n",
      "--relationships rel_city_in_province-header.csv,rel_city_in_province.csv  \n",
      "--relationships rel_company_in_city-header.csv,rel_company_in_city.csv  \n",
      "--relationships rel_fund_has_custodian-header.csv,rel_fund_has_custodian.csv  \n",
      "--relationships rel_fund_has_management-header.csv,rel_fund_has_management.csv  \n",
      "--relationships rel_fund_listed_company_portfolio-header.csv,rel_fund_listed_company_portfolio.csv  \n",
      "--relationships rel_listed_company_has_manager-header.csv,rel_listed_company_has_manager.csv  \n",
      "--relationships rel_share_in_industry-header.csv,rel_share_in_industry.csv  \n",
      "--ignore-duplicate-nodes=true  \n",
      "--ignore-missing-nodes=true\n"
     ]
    }
   ],
   "source": [
    "generate_scripts(path='./data/output',database='finance_graph.db')"
   ]
  },
  {
   "cell_type": "markdown",
   "metadata": {},
   "source": [
    "### 3.7 创建知识图谱数据库的软链接\n",
    "由于Neo4j默认显示graph.db数据库，我们需要将finance_graph.db链接到graph.db上来，此时需要用到应用程序junction.exe，来源于网页https://docs.microsoft.com/zh-cn/sysinternals/downloads/junction\n",
    "注意，此时需要删除databases文件夹中的graph.db文件，并在cmd命令行中输入：   \n",
    "> cd C:\\Program Files\\neo4j-community-3.5.14-windows\\neo4j-community-3.5.14\\data\\databases      \n",
    "> junction -s  graph.db finance_graph.db     \n",
    "\n",
    "最后，在cmd命令行中重新运行Neo4j软件，重新打开3.4节中的网址，如果看到的页面类似下面的图，那么我们的数据库就构建成功了。"
   ]
  },
  {
   "cell_type": "markdown",
   "metadata": {},
   "source": [
    "![title](img/初始页面.jpg)"
   ]
  },
  {
   "cell_type": "markdown",
   "metadata": {},
   "source": [
    "### 3.8 为知识图谱创建索引以提高查询效率"
   ]
  },
  {
   "cell_type": "code",
   "execution_count": 119,
   "metadata": {},
   "outputs": [],
   "source": [
    "index_scripts = \"\"\"CREATE INDEX ON :CITY(city);\n",
    "                CREATE INDEX ON :FUND(fund_code);\n",
    "                CREATE INDEX ON :COMPANY(company);\n",
    "                CREATE INDEX ON :FUND_CUSTODIAN(company);\n",
    "                CREATE INDEX ON :FUND_MANAGER(company);\n",
    "                CREATE INDEX ON :LISTED_COMPANY(company);\n",
    "                CREATE INDEX ON :INDUSTRY(industry);\n",
    "                CREATE INDEX ON :MANAGER(manager_id);\n",
    "                CREATE INDEX ON :PROVINCE(province);\n",
    "                CREATE INDEX ON :LISTED_COMPANY(share_code);\n",
    "                \"\"\""
   ]
  },
  {
   "cell_type": "code",
   "execution_count": 120,
   "metadata": {},
   "outputs": [
    {
     "name": "stdout",
     "output_type": "stream",
     "text": [
      "CREATE INDEX ON :CITY(city);\n",
      "CREATE INDEX ON :FUND(fund_code);\n",
      "CREATE INDEX ON :COMPANY(company);\n",
      "CREATE INDEX ON :FUND_CUSTODIAN(company);\n",
      "CREATE INDEX ON :FUND_MANAGER(company);\n",
      "CREATE INDEX ON :LISTED_COMPANY(company);\n",
      "CREATE INDEX ON :INDUSTRY(industry);\n",
      "CREATE INDEX ON :MANAGER(manager_id);\n",
      "CREATE INDEX ON :PROVINCE(province);\n",
      "CREATE INDEX ON :LISTED_COMPANY(share_code);\n"
     ]
    }
   ],
   "source": [
    "for scripts in index_scripts.split('\\n'):\n",
    "    scripts = scripts.strip()\n",
    "    if len(scripts)>5 :\n",
    "        print(scripts) # 该处输出也可以直接在Neo4j页面的命令行输入，可以实现同样的功能\n",
    "        result = graph.run(scripts)"
   ]
  },
  {
   "cell_type": "markdown",
   "metadata": {},
   "source": [
    "## 4 知识图谱的应用"
   ]
  },
  {
   "cell_type": "markdown",
   "metadata": {},
   "source": [
    "知识图谱应用部分主要从三个方面展开：\n",
    "* 信息可视化展示\n",
    "* 关联查询\n",
    "* 投研\n",
    "\n",
    "我们将利用 Neo4j 的查询语言 `Cypher` 进行相关查询。此部分推荐在Neo4j的web界面进行调试，可视化效果更佳。\n",
    "### 4.1 湖北国资概念股的信息可视化查询"
   ]
  },
  {
   "cell_type": "markdown",
   "metadata": {},
   "source": [
    "**<font color = red>问题十六：我们知道东湖高新、凯龙股份、襄阳轴承、ST双环、广济药业、楚天高速是6家湖北国资概念股，请你可视化展现这6家公司在省份、城市和行业上的分布情况，请你将查询语言补到下方代码块中，再插入图片展示你的可视化结果。</font>**"
   ]
  },
  {
   "cell_type": "code",
   "execution_count": null,
   "metadata": {},
   "outputs": [],
   "source": [
    "MATCH p1 = (a:LISTED_COMPANY)-[:IN_INDUSTRY]-(b:INDUSTRY)\n",
    "    WHERE a.share_code in [\"000707\",\"002783\",\"000952\",\"600133\",\"000678\",\"600035\"]\n",
    "MATCH p2 = (a)-[:IN_CITY]-(c:CITY)-[:IN_PROVINCE]-(d:PROVINCE)\n",
    "RETURN p1,p2"
   ]
  },
  {
   "cell_type": "markdown",
   "metadata": {},
   "source": [
    "![title](img/湖北国资.png)"
   ]
  },
  {
   "cell_type": "markdown",
   "metadata": {},
   "source": [
    "### 4.2 江苏省最受基金欢迎的上市公司\n",
    "**<font color = red>问题十七：请你观察下面代码块的输出，在query1语句中补充完成以下两个功能：1.创建列名city，company，num，2.将数据按照num降序排列，注意，请你删去下方代码块中的#号部分再填写所需内容（#号代表该地方需要填充），否则程序将会报错：</font>**"
   ]
  },
  {
   "cell_type": "code",
   "execution_count": 121,
   "metadata": {},
   "outputs": [
    {
     "data": {
      "text/html": [
       "<div>\n",
       "<style scoped>\n",
       "    .dataframe tbody tr th:only-of-type {\n",
       "        vertical-align: middle;\n",
       "    }\n",
       "\n",
       "    .dataframe tbody tr th {\n",
       "        vertical-align: top;\n",
       "    }\n",
       "\n",
       "    .dataframe thead th {\n",
       "        text-align: right;\n",
       "    }\n",
       "</style>\n",
       "<table border=\"1\" class=\"dataframe\">\n",
       "  <thead>\n",
       "    <tr style=\"text-align: right;\">\n",
       "      <th></th>\n",
       "      <th>city</th>\n",
       "      <th>code</th>\n",
       "      <th>company</th>\n",
       "      <th>num</th>\n",
       "    </tr>\n",
       "  </thead>\n",
       "  <tbody>\n",
       "    <tr>\n",
       "      <th>0</th>\n",
       "      <td>无锡市</td>\n",
       "      <td>300842</td>\n",
       "      <td>无锡帝科电子材料股份有限公司</td>\n",
       "      <td>1216</td>\n",
       "    </tr>\n",
       "    <tr>\n",
       "      <th>1</th>\n",
       "      <td>连云港市</td>\n",
       "      <td>600276</td>\n",
       "      <td>江苏恒瑞医药股份有限公司</td>\n",
       "      <td>1144</td>\n",
       "    </tr>\n",
       "    <tr>\n",
       "      <th>2</th>\n",
       "      <td>南京市</td>\n",
       "      <td>601688</td>\n",
       "      <td>华泰证券股份有限公司</td>\n",
       "      <td>963</td>\n",
       "    </tr>\n",
       "    <tr>\n",
       "      <th>3</th>\n",
       "      <td>无锡市</td>\n",
       "      <td>300782</td>\n",
       "      <td>江苏卓胜微电子股份有限公司</td>\n",
       "      <td>958</td>\n",
       "    </tr>\n",
       "    <tr>\n",
       "      <th>4</th>\n",
       "      <td>南京市</td>\n",
       "      <td>688377</td>\n",
       "      <td>南京迪威尔高端制造股份有限公司</td>\n",
       "      <td>841</td>\n",
       "    </tr>\n",
       "    <tr>\n",
       "      <th>5</th>\n",
       "      <td>无锡市</td>\n",
       "      <td>603259</td>\n",
       "      <td>无锡药明康德新药开发股份有限公司</td>\n",
       "      <td>772</td>\n",
       "    </tr>\n",
       "    <tr>\n",
       "      <th>6</th>\n",
       "      <td>宿迁市</td>\n",
       "      <td>002304</td>\n",
       "      <td>江苏洋河酒厂股份有限公司</td>\n",
       "      <td>702</td>\n",
       "    </tr>\n",
       "    <tr>\n",
       "      <th>7</th>\n",
       "      <td>南京市</td>\n",
       "      <td>601009</td>\n",
       "      <td>南京银行股份有限公司</td>\n",
       "      <td>674</td>\n",
       "    </tr>\n",
       "    <tr>\n",
       "      <th>8</th>\n",
       "      <td>常州市</td>\n",
       "      <td>603655</td>\n",
       "      <td>常州朗博密封科技股份有限公司</td>\n",
       "      <td>653</td>\n",
       "    </tr>\n",
       "    <tr>\n",
       "      <th>9</th>\n",
       "      <td>苏州市</td>\n",
       "      <td>603283</td>\n",
       "      <td>苏州赛腾精密电子股份有限公司</td>\n",
       "      <td>652</td>\n",
       "    </tr>\n",
       "  </tbody>\n",
       "</table>\n",
       "</div>"
      ],
      "text/plain": [
       "   city    code           company   num\n",
       "0   无锡市  300842    无锡帝科电子材料股份有限公司  1216\n",
       "1  连云港市  600276      江苏恒瑞医药股份有限公司  1144\n",
       "2   南京市  601688        华泰证券股份有限公司   963\n",
       "3   无锡市  300782     江苏卓胜微电子股份有限公司   958\n",
       "4   南京市  688377   南京迪威尔高端制造股份有限公司   841\n",
       "5   无锡市  603259  无锡药明康德新药开发股份有限公司   772\n",
       "6   宿迁市  002304      江苏洋河酒厂股份有限公司   702\n",
       "7   南京市  601009        南京银行股份有限公司   674\n",
       "8   常州市  603655    常州朗博密封科技股份有限公司   653\n",
       "9   苏州市  603283    苏州赛腾精密电子股份有限公司   652"
      ]
     },
     "execution_count": 121,
     "metadata": {},
     "output_type": "execute_result"
    }
   ],
   "source": [
    "query1 = \"\"\"\n",
    "MATCH p = (a:FUND)-[:IN_PORTFOLIO]->(b:LISTED_COMPANY)-[:IN_CITY]-(c:CITY)-[:IN_PROVINCE]->(d:PROVINCE {province:\"江苏\"})  \n",
    "RETURN c.city as city,b.share_code as code, b.company as company,count(DISTINCT a.fund_code) as num\n",
    "ORDER BY num DESC\n",
    "limit 10\n",
    "\"\"\"\n",
    "\n",
    "df = graph.run(query1).to_data_frame()\n",
    "df.head(10)"
   ]
  },
  {
   "cell_type": "markdown",
   "metadata": {},
   "source": [
    "### 4.3 上市公司“独立性”审查\n",
    "**<font color = red>问题十八：我们认为如果一个人同时出2家以上的上市公司中担任“董事会成员”、“监事”、“委员会成员”，“高管”，“核心技术人员”等职位，即是涉及“兼任”的情况。“兼任”使得两家以上的上市公司可能被同一个人控制，这可能使得“独立性”产生问题。现在请你调查“澳洋科技”这家上市公司董事会成员的情况，再看看他们在公司外的兼任情况，请你将查询语言补到代码块中，再插入图片展示你的可视化结果：</font>**"
   ]
  },
  {
   "cell_type": "code",
   "execution_count": null,
   "metadata": {},
   "outputs": [],
   "source": [
    "MATCH (a:LISTED_COMPANY)-[r1:董事会成员]->(b:MANAGER)\n",
    "    WHERE a.share_code in ['002172'] and r1.end_date = -1\n",
    "RETURN a,b"
   ]
  },
  {
   "cell_type": "markdown",
   "metadata": {},
   "source": [
    "![title](img/澳洋科技现任.png)"
   ]
  },
  {
   "cell_type": "code",
   "execution_count": null,
   "metadata": {},
   "outputs": [],
   "source": [
    "MATCH (a:LISTED_COMPANY)-[r1:董事会成员]->(b:MANAGER)\n",
    "    WHERE a.share_code in ['002172'] and r1.end_date = -1\n",
    "MATCH  p1 = (c:COMPANY)-[r1:其他|监事|高管|委员会成员|董事会成员|核心技术人员]->(b)\n",
    "MATCH  p2 = (e:COMPANY)-[r2:其他|监事|高管|委员会成员|董事会成员|核心技术人员]->(b)\n",
    "    WHERE  e.company<>c.company\n",
    "RETURN p1, p2"
   ]
  },
  {
   "cell_type": "markdown",
   "metadata": {},
   "source": [
    "![title](img/独立性.png)"
   ]
  },
  {
   "cell_type": "markdown",
   "metadata": {},
   "source": [
    "### 4.4 持仓相似基金推荐\n",
    "**<font color = red>问题十九：我们想要根据基金景顺资源(162607.SZ)持仓在不同行业的分布情况，推荐与其持仓行业最相似的五个基金，以下是其查询语言，请你给出对主干语言作用的阐述。通过和前面问题的比对，相信你很容易发现图数据库的优势所在。</font>**"
   ]
  },
  {
   "cell_type": "code",
   "execution_count": 116,
   "metadata": {},
   "outputs": [
    {
     "data": {
      "text/html": [
       "<div>\n",
       "<style scoped>\n",
       "    .dataframe tbody tr th:only-of-type {\n",
       "        vertical-align: middle;\n",
       "    }\n",
       "\n",
       "    .dataframe tbody tr th {\n",
       "        vertical-align: top;\n",
       "    }\n",
       "\n",
       "    .dataframe thead th {\n",
       "        text-align: right;\n",
       "    }\n",
       "</style>\n",
       "<table border=\"1\" class=\"dataframe\">\n",
       "  <thead>\n",
       "    <tr style=\"text-align: right;\">\n",
       "      <th></th>\n",
       "      <th>fund_code</th>\n",
       "      <th>ration</th>\n",
       "    </tr>\n",
       "  </thead>\n",
       "  <tbody>\n",
       "    <tr>\n",
       "      <th>0</th>\n",
       "      <td>007153</td>\n",
       "      <td>1.0</td>\n",
       "    </tr>\n",
       "    <tr>\n",
       "      <th>1</th>\n",
       "      <td>004597</td>\n",
       "      <td>1.0</td>\n",
       "    </tr>\n",
       "    <tr>\n",
       "      <th>2</th>\n",
       "      <td>004598</td>\n",
       "      <td>1.0</td>\n",
       "    </tr>\n",
       "    <tr>\n",
       "      <th>3</th>\n",
       "      <td>008298</td>\n",
       "      <td>1.0</td>\n",
       "    </tr>\n",
       "    <tr>\n",
       "      <th>4</th>\n",
       "      <td>007154</td>\n",
       "      <td>1.0</td>\n",
       "    </tr>\n",
       "  </tbody>\n",
       "</table>\n",
       "</div>"
      ],
      "text/plain": [
       "  fund_code  ration\n",
       "0    007153     1.0\n",
       "1    004597     1.0\n",
       "2    004598     1.0\n",
       "3    008298     1.0\n",
       "4    007154     1.0"
      ]
     },
     "execution_count": 116,
     "metadata": {},
     "output_type": "execute_result"
    }
   ],
   "source": [
    "fund_code = \"162607\"\n",
    "\n",
    "query3 = \"\"\"\n",
    "MATCH p = (a:FUND)-[:IN_PORTFOLIO]->(b:COMPANY)-[:IN_INDUSTRY]-(c:INDUSTRY)  \n",
    "    WHERE a.fund_code=\"{}\"   \n",
    "WITH  COLLECT(DISTINCT c.industry) as industry_base  \n",
    "MATCH  (d:FUND)-[:IN_PORTFOLIO]->(e:COMPANY)-[:IN_INDUSTRY]-(f:INDUSTRY) \n",
    "WITH d.fund_code as fund_code, industry_base,collect(DISTINCT f.industry) as industry_target \n",
    "RETURN fund_code,\n",
    "       toFloat(length([ind in industry_target where ind in industry_base ]))/length(industry_target) as ration\n",
    "ORDER BY ration DESC\n",
    "LIMIT 5\n",
    "\"\"\".format(fund_code)\n",
    "\n",
    "df = graph.run(query3).to_data_frame()\n",
    "\n",
    "df.head()"
   ]
  },
  {
   "cell_type": "markdown",
   "metadata": {},
   "source": [
    "**A**：首先，根据要求写一个匹配语句，记录景顺资源基金持仓持仓情况，以及其对应的行业结构，并用industry_base变量记录下来。接着再写一个匹配语句，将具有所有基金的行业结构也表示出来，计算它们与景顺资源的行业结构的相似程度，即ration指标，输出和景顺资源行业结构最相似（ration降序排列）的前5个基金（LIMIT为5）的名称以及相似度。"
   ]
  },
  {
   "cell_type": "markdown",
   "metadata": {},
   "source": [
    "### 4.5 股票推荐\n",
    "**<font color = red>问题二十：你认为疫情之下，医药股大有可为，你想要在近期表现颇佳的000336.OF、001679.OF、002939.OF和001643.OF四只公募基金中找出它们配置的医药制造业股票进行研究。请你将查询语言补到代码块中，再插入图片展示你的可视化结果：</font>**"
   ]
  },
  {
   "cell_type": "code",
   "execution_count": null,
   "metadata": {},
   "outputs": [],
   "source": [
    "MATCH p = (a:FUND)-[:IN_PORTFOLIO]->(b:COMPANY)-[:IN_INDUSTRY]->(c:INDUSTRY)\n",
    " WHERE a.fund_code in [\"000336\",\"001679\",\"002939\",\"001643\"] and c.industry = \"医疗保健\"\n",
    "RETURN p"
   ]
  },
  {
   "cell_type": "markdown",
   "metadata": {},
   "source": [
    "![title](img/医疗保健.png)"
   ]
  },
  {
   "cell_type": "markdown",
   "metadata": {},
   "source": [
    "# 5 知识图谱的扩展\n",
    "**<font color = red>附加题：你能否扩展现有的资本市场知识图谱？如果可以，请找出对应的数据来源，并指出所蕴含的新的实体和关系是什么。 </font>** "
   ]
  }
 ],
 "metadata": {
  "kernelspec": {
   "display_name": "Python 3",
   "language": "python",
   "name": "python3"
  },
  "language_info": {
   "codemirror_mode": {
    "name": "ipython",
    "version": 3
   },
   "file_extension": ".py",
   "mimetype": "text/x-python",
   "name": "python",
   "nbconvert_exporter": "python",
   "pygments_lexer": "ipython3",
   "version": "3.8.5"
  },
  "toc": {
   "nav_menu": {},
   "number_sections": true,
   "sideBar": true,
   "skip_h1_title": false,
   "toc_cell": false,
   "toc_position": {},
   "toc_section_display": "block",
   "toc_window_display": false
  }
 },
 "nbformat": 4,
 "nbformat_minor": 1
}
