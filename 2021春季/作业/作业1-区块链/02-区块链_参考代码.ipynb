{
 "cells": [
  {
   "cell_type": "markdown",
   "metadata": {},
   "source": [
    "## 创建一个区块链"
   ]
  },
  {
   "cell_type": "markdown",
   "metadata": {},
   "source": [
    "### 第一步：创建区块链"
   ]
  },
  {
   "cell_type": "markdown",
   "metadata": {},
   "source": [
    "我们给出了Blockchain类的基本框架，包括存储区块链和存储交易两个方法，请根据提示补全new_block、new_transaction两个函数"
   ]
  },
  {
   "cell_type": "code",
   "execution_count": null,
   "metadata": {},
   "outputs": [],
   "source": [
    "import hashlib\n",
    "import json\n",
    "from time import time\n",
    "\n",
    "class Blockchain(object):\n",
    "    def __init__(self):\n",
    "        self.current_transactions = []\n",
    "        self.chain = []\n",
    "\n",
    "        # 创建创世区块\n",
    "        self.new_block(previous_hash=1, proof=100)\n",
    "\n",
    "    def new_block(self, proof, previous_hash=None):\n",
    "        \"\"\"\n",
    "        创建一个新的区块到区块链中\n",
    "        :param proof: <int> 由工作证明算法生成的证明\n",
    "        :param previous_hash: (Optional) <str> 前一个区块的 hash 值\n",
    "        :return: <dict> 新区块\n",
    "        \"\"\"\n",
    "        # 写出区块结构（字典）\n",
    "        block = {\n",
    "\n",
    "        }\n",
    "\n",
    "        \n",
    "        self.current_transactions = []\n",
    "\n",
    "        self.chain.append(block)\n",
    "        return block\n",
    "\n",
    "    def new_transaction(self, sender, recipient, amount):\n",
    "        \"\"\"\n",
    "        创建一笔新的交易到下一个被挖掘的区块中\n",
    "        :param sender: <str> 发送人的地址\n",
    "        :param recipient: <str> 接收人的地址\n",
    "        :param amount: <int> 金额\n",
    "        :return: <int> 持有本次交易的区块索引\n",
    "        \"\"\"\n",
    "        # 一笔交易的结构\n",
    "        self.current_transactions.append({\n",
    "           \n",
    "            \n",
    "        })\n",
    "\n",
    "        return self.last_block['index'] + 1\n",
    "\n",
    "    @property\n",
    "    def last_block(self):\n",
    "        return self.chain[-1]\n",
    "\n",
    "    @staticmethod\n",
    "    def hash(block):\n",
    "        \"\"\"\n",
    "        给一个区块生成 SHA-256 值\n",
    "        :param block: <dict> Block\n",
    "        :return: <str>\n",
    "        \"\"\"\n",
    "\n",
    "        # 我们必须确保这个字典（区块）是经过排序的，否则我们将会得到不一致的散列\n",
    "        block_string = json.dumps(block, sort_keys=True).encode()\n",
    "        \n",
    "        # 计算哈希数值\n",
    "        HASH = \n",
    "        \n",
    "        return HASH"
   ]
  },
  {
   "cell_type": "markdown",
   "metadata": {},
   "source": [
    "### 第二步： 加入工作量证明算法"
   ]
  },
  {
   "cell_type": "markdown",
   "metadata": {},
   "source": [
    "使用工作量证明（PoW）算法，来证明是如何在区块链上创建或挖掘新的区块。PoW 的目标是计算出一个符合特定条件的数字，这个数字对于所有人而言必须在计算上非常困难，但易于验证。这是工作证明背后的核心思想。       \n",
    "在比特币中，工作量证明算法被称为 Hashcash ，它和上面的问题很相似，只不过计算难度非常大。这就是矿工们为了争夺创建区块的权利而争相计算的问题。 通常，计算难度与目标字符串需要满足的特定字符的数量成正比，矿工算出结果后，就会获得一定数量的比特币奖励（通过交易）。    \n",
    "**我们此处使用一个简单的PoW算法为例：\n",
    "找到一个数字 P ，使得它与前一个区块的 proof 拼接成的字符串的 Hash 值以 4 个零开头。**"
   ]
  },
  {
   "cell_type": "markdown",
   "metadata": {},
   "source": [
    "请根据提示补全下面的proof_of_work、valid_proof函数"
   ]
  },
  {
   "cell_type": "code",
   "execution_count": null,
   "metadata": {},
   "outputs": [],
   "source": [
    "class Blockchain(object):\n",
    "    ...\n",
    "\n",
    "    def proof_of_work(self, last_proof):\n",
    "        \"\"\"\n",
    "        Simple Proof of Work Algorithm:\n",
    "         - Find a number p' such that hash(pp') contains leading 4 zeroes, where p is the previous p'\n",
    "         - p is the previous proof, and p' is the new proof\n",
    "        :param last_proof: <int>\n",
    "        :return: <int>\n",
    "        \"\"\"\n",
    "\n",
    "        proof = 0\n",
    "        while self.valid_proof(last_proof, proof) is False:\n",
    "            proof += 1\n",
    "\n",
    "        return proof\n",
    "\n",
    "    @staticmethod\n",
    "    def valid_proof(last_proof, proof):\n",
    "        \"\"\"\n",
    "        Validates the Proof: Does hash(last_proof, proof) contain 4 leading zeroes?\n",
    "        :param last_proof: <int> Previous Proof\n",
    "        :param proof: <int> Current Proof\n",
    "        :return: <bool> True if correct, False if not.\n",
    "        \"\"\"\n",
    "        # 写出如何判断valid_proof\n",
    "        guess = \n",
    "        guess_hash = \n",
    "        \n",
    "        return guess_hash[:4] == \"0000\""
   ]
  },
  {
   "cell_type": "markdown",
   "metadata": {},
   "source": [
    "### 第三步：Blockchain作为API接口"
   ]
  },
  {
   "cell_type": "markdown",
   "metadata": {},
   "source": [
    "输入新交易的信息，调用blockchain中的相应函数，补全下面的函数"
   ]
  },
  {
   "cell_type": "code",
   "execution_count": null,
   "metadata": {},
   "outputs": [],
   "source": [
    "from flask import Flask, jsonify, request\n",
    "\n",
    "...\n",
    "\n",
    "@app.route('/transactions/new', methods=['POST'])\n",
    "def new_transaction():\n",
    "    values = request.get_json() # values 是我们将要手动输入的新交易\n",
    "\n",
    "    # Check that the required fields are in the POST'ed data\n",
    "    required = ['sender', 'recipient', 'amount']\n",
    "    if not all(k in values for k in required):\n",
    "        return 'Missing values', 400\n",
    "\n",
    "    # Create a new Transaction\n",
    "    # 补全下面括号中的参数，将新交易加入\n",
    "    index = blockchain.new_transaction(  )\n",
    "\n",
    "    response = {'message': f'Transaction will be added to Block {index}'}\n",
    "    return jsonify(response), 201 "
   ]
  },
  {
   "cell_type": "markdown",
   "metadata": {},
   "source": [
    "挖矿由三个步骤组成：1、计算工作量证明PoW 2、新增一个交易授予矿工一个币 3、构造新区块并加入链中"
   ]
  },
  {
   "cell_type": "markdown",
   "metadata": {},
   "source": [
    "根据提示补全挖矿函数mine()"
   ]
  },
  {
   "cell_type": "code",
   "execution_count": null,
   "metadata": {},
   "outputs": [],
   "source": [
    "@app.route('/mine', methods=['GET'])\n",
    "def mine():\n",
    "    # We run the proof of work algorithm to get the next proof...\n",
    "    last_block = blockchain.last_block\n",
    "    last_proof = last_block['proof']\n",
    "    proof = blockchain.proof_of_work(last_proof)\n",
    "\n",
    "    # We must receive a reward for finding the proof.\n",
    "    # The sender is \"0\" to signify that this node has mined a new coin.\n",
    "    blockchain.new_transaction(\n",
    "        sender=\"0\",\n",
    "        recipient=node_identifier,\n",
    "        amount=1,\n",
    "    )\n",
    "\n",
    "    # Forge the new Block by adding it to the chain\n",
    "    # 理解挖矿的原理，补全下面两个字段\n",
    "    previous_hash = \n",
    "    block = \n",
    "\n",
    "    response = {\n",
    "        'message': \"New Block Forged\",\n",
    "        'index': block['index'],\n",
    "        'transactions': block['transactions'],\n",
    "        'proof': block['proof'],\n",
    "        'previous_hash': block['previous_hash'],\n",
    "    }\n",
    "    return jsonify(response), 200"
   ]
  },
  {
   "cell_type": "markdown",
   "metadata": {},
   "source": [
    "### 第四步：整合代码，运行区块链"
   ]
  }
 ],
 "metadata": {
  "kernelspec": {
   "display_name": "Python 3",
   "language": "python",
   "name": "python3"
  },
  "language_info": {
   "codemirror_mode": {
    "name": "ipython",
    "version": 3
   },
   "file_extension": ".py",
   "mimetype": "text/x-python",
   "name": "python",
   "nbconvert_exporter": "python",
   "pygments_lexer": "ipython3",
   "version": "3.7.0"
  }
 },
 "nbformat": 4,
 "nbformat_minor": 2
}
